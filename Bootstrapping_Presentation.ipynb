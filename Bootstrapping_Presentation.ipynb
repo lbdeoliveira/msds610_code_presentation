{
 "cells": [
  {
   "cell_type": "markdown",
   "id": "2751dab5-0689-470c-80b9-5b88eb575089",
   "metadata": {},
   "source": [
    "# Bootstrapping\n",
    "\n",
    "Lucas De Oliveira, Kooha Kwon, Melvin Vellera"
   ]
  },
  {
   "cell_type": "code",
   "execution_count": 157,
   "id": "27b9cdc7-a86a-4ac7-be9e-1e7b9510aa72",
   "metadata": {},
   "outputs": [],
   "source": [
    "import numpy as np\n",
    "import pandas as pd\n",
    "from collections import Counter\n",
    "import matplotlib.pyplot as plt\n",
    "from scipy.stats import t\n",
    "import random\n",
    "import matplotlib.pyplot as plt"
   ]
  },
  {
   "cell_type": "markdown",
   "id": "8ba62b52-b1f3-440c-960b-5e426324055c",
   "metadata": {},
   "source": [
    "## Quick Recap\n",
    "\n",
    "Bootstrapping is a technique of **iterative resampling with replacement** to make inferences about the general population without conducting more experiments.\n",
    "\n",
    "Say we ran an experiments with the following experimental results:"
   ]
  },
  {
   "cell_type": "code",
   "execution_count": 158,
   "id": "a989e6a6-c7b5-4980-83a8-077b58b42b74",
   "metadata": {},
   "outputs": [
    {
     "data": {
      "image/png": "[encoded data removed]",
      "text/plain": [
       "<Figure size 720x72 with 1 Axes>"
      ]
     },
     "metadata": {
      "needs_background": "light"
     },
     "output_type": "display_data"
    }
   ],
   "source": [
    "# Experimental sample\n",
    "exp_sample = [-3, -2.2, -2, 1, 1.5, 2, 3, 4]\n",
    "\n",
    "# Plot\n",
    "fig, ax = plt.subplots(figsize = (10, 1))\n",
    "ax.hlines(y = 0.0, xmax = 4.0, xmin = -4.0, color = 'grey')\n",
    "ax.scatter(exp_sample, [0]*len(exp_sample), s = 100)\n",
    "\n",
    "ax.set_yticks([])\n",
    "\n",
    "ax.spines['top'].set_visible(False)\n",
    "ax.spines['bottom'].set_visible(False)\n",
    "ax.spines['left'].set_visible(False)\n",
    "ax.spines['right'].set_visible(False)\n",
    "\n",
    "plt.show()"
   ]
  },
  {
   "cell_type": "markdown",
   "id": "c1214bf2-461a-484a-b8b9-d6a065f12275",
   "metadata": {},
   "source": [
    "Let's see what bootstrapped samples look like (re-run code cell to see variability of samples)..."
   ]
  },
  {
   "cell_type": "code",
   "execution_count": 159,
   "id": "92fe0a31-39ed-4a53-bfac-567a7b8370d9",
   "metadata": {},
   "outputs": [
    {
     "data": {
      "image/png": "[encoded data removed]",
      "text/plain": [
       "<Figure size 720x360 with 1 Axes>"
      ]
     },
     "metadata": {
      "needs_background": "light"
     },
     "output_type": "display_data"
    }
   ],
   "source": [
    "# Get two bootstrapped samples\n",
    "inds = np.random.randint(0,8,8)\n",
    "strap = [exp_sample[j] for j in inds]\n",
    "val_count = Counter(strap)\n",
    "\n",
    "bootstrap = []\n",
    "counts = []\n",
    "for val, count in val_count.items():\n",
    "    k = 1\n",
    "    while k <= count:\n",
    "        bootstrap.append(val)\n",
    "        counts.append(k)\n",
    "        k += 1       \n",
    "\n",
    "\n",
    "# Plot\n",
    "fig, ax = plt.subplots(figsize = (10, 5))\n",
    "\n",
    "ax.hlines(y = 1.0, xmax = 4.0, xmin = -4.0, color = 'grey')\n",
    "ax.scatter(bootstrap, counts, s = 100, color = 'red', alpha = .5)\n",
    "\n",
    "ax.set_yticks([])\n",
    "\n",
    "ax.spines['top'].set_visible(False)\n",
    "ax.spines['bottom'].set_visible(False)\n",
    "ax.spines['left'].set_visible(False)\n",
    "ax.spines['right'].set_visible(False)\n",
    "\n",
    "ax.vlines(x = np.mean(bootstrap), ymin = 0.0, ymax = 2.0, color = 'red')\n",
    "\n",
    "plt.tight_layout()\n",
    "plt.show()"
   ]
  },
  {
   "cell_type": "markdown",
   "id": "3b6e409b-8d78-4b8f-9873-9216ac397747",
   "metadata": {},
   "source": [
    "Finally, we can analyze the summary statistic(s) for our bootstrapped samples:"
   ]
  },
  {
   "cell_type": "code",
   "execution_count": 160,
   "id": "ec6bc514-8865-483b-a45b-d0f44ef489cd",
   "metadata": {},
   "outputs": [
    {
     "data": {
      "image/png": "[encoded data removed]",
      "text/plain": [
       "<Figure size 720x576 with 1 Axes>"
      ]
     },
     "metadata": {
      "needs_background": "light"
     },
     "output_type": "display_data"
    }
   ],
   "source": [
    "# Bootstrap 10,000 samples\n",
    "means = []\n",
    "\n",
    "for i in range(10_000):\n",
    "    inds = np.random.randint(0,8,8)\n",
    "    strap = [exp_sample[j] for j in inds]\n",
    "    means.append(np.mean(strap))\n",
    "\n",
    "# Plot\n",
    "fig, ax = plt.subplots(figsize = (10,8))\n",
    "\n",
    "ax.hist(means, alpha = .5, edgecolor = 'grey')\n",
    "ax.vlines(x = np.mean(means), ymin = 0, ymax = 2700, color = 'red')\n",
    "ax.annotate(f'{np.mean(means):.2f} (Mean)', (np.mean(means), 2700))\n",
    "\n",
    "ax.spines['top'].set_visible(False)\n",
    "ax.spines['right'].set_visible(False)\n",
    "\n",
    "ax.set_title('Distribution of bootstrapped sample means', size = 16)\n",
    "\n",
    "plt.show()"
   ]
  },
  {
   "cell_type": "markdown",
   "id": "af152acf-ca30-4648-b3de-3e1414548845",
   "metadata": {},
   "source": [
    "## Example with Real Data\n",
    "\n",
    "**Description of example/data here** -- for now I have included BodyFatPercentage.csv"
   ]
  },
  {
   "cell_type": "markdown",
   "id": "e8251ab0-1ba5-4e8c-9dcd-5c6e6649200d",
   "metadata": {},
   "source": [
    "1. Take sample size 10 from one of the columns (we'll call the population)\n",
    "2. Use traditional t-dist for confidence interval (too wide)\n",
    "3. Bootstrap sample size 10 10,000x\n",
    "4. Compare to population"
   ]
  },
  {
   "cell_type": "code",
   "execution_count": 161,
   "id": "ad74a6c2-a6c5-4fb9-9fb2-e0c78b7bd8e7",
   "metadata": {},
   "outputs": [
    {
     "data": {
      "text/html": [
       "<div>\n",
       "<style scoped>\n",
       "    .dataframe tbody tr th:only-of-type {\n",
       "        vertical-align: middle;\n",
       "    }\n",
       "\n",
       "    .dataframe tbody tr th {\n",
       "        vertical-align: top;\n",
       "    }\n",
       "\n",
       "    .dataframe thead th {\n",
       "        text-align: right;\n",
       "    }\n",
       "</style>\n",
       "<table border=\"1\" class=\"dataframe\">\n",
       "  <thead>\n",
       "    <tr style=\"text-align: right;\">\n",
       "      <th></th>\n",
       "      <th>IDNO</th>\n",
       "      <th>BODYFAT</th>\n",
       "      <th>DENSITY</th>\n",
       "      <th>AGE</th>\n",
       "      <th>WEIGHT</th>\n",
       "      <th>HEIGHT</th>\n",
       "      <th>NECK</th>\n",
       "      <th>CHEST</th>\n",
       "      <th>ABDOMEN</th>\n",
       "      <th>HIP</th>\n",
       "      <th>THIGH</th>\n",
       "      <th>KNEE</th>\n",
       "      <th>ANKLE</th>\n",
       "      <th>BICEPS</th>\n",
       "      <th>FOREARM</th>\n",
       "      <th>WRIST</th>\n",
       "    </tr>\n",
       "  </thead>\n",
       "  <tbody>\n",
       "    <tr>\n",
       "      <th>0</th>\n",
       "      <td>1</td>\n",
       "      <td>12.6</td>\n",
       "      <td>1.0708</td>\n",
       "      <td>23</td>\n",
       "      <td>154.25</td>\n",
       "      <td>67.75</td>\n",
       "      <td>36.2</td>\n",
       "      <td>93.1</td>\n",
       "      <td>85.2</td>\n",
       "      <td>94.5</td>\n",
       "      <td>59.0</td>\n",
       "      <td>37.3</td>\n",
       "      <td>21.9</td>\n",
       "      <td>32.0</td>\n",
       "      <td>27.4</td>\n",
       "      <td>17.1</td>\n",
       "    </tr>\n",
       "    <tr>\n",
       "      <th>1</th>\n",
       "      <td>2</td>\n",
       "      <td>6.9</td>\n",
       "      <td>1.0853</td>\n",
       "      <td>22</td>\n",
       "      <td>173.25</td>\n",
       "      <td>72.25</td>\n",
       "      <td>38.5</td>\n",
       "      <td>93.6</td>\n",
       "      <td>83.0</td>\n",
       "      <td>98.7</td>\n",
       "      <td>58.7</td>\n",
       "      <td>37.3</td>\n",
       "      <td>23.4</td>\n",
       "      <td>30.5</td>\n",
       "      <td>28.9</td>\n",
       "      <td>18.2</td>\n",
       "    </tr>\n",
       "    <tr>\n",
       "      <th>2</th>\n",
       "      <td>3</td>\n",
       "      <td>24.6</td>\n",
       "      <td>1.0414</td>\n",
       "      <td>22</td>\n",
       "      <td>154.00</td>\n",
       "      <td>66.25</td>\n",
       "      <td>34.0</td>\n",
       "      <td>95.8</td>\n",
       "      <td>87.9</td>\n",
       "      <td>99.2</td>\n",
       "      <td>59.6</td>\n",
       "      <td>38.9</td>\n",
       "      <td>24.0</td>\n",
       "      <td>28.8</td>\n",
       "      <td>25.2</td>\n",
       "      <td>16.6</td>\n",
       "    </tr>\n",
       "    <tr>\n",
       "      <th>3</th>\n",
       "      <td>4</td>\n",
       "      <td>10.9</td>\n",
       "      <td>1.0751</td>\n",
       "      <td>26</td>\n",
       "      <td>184.75</td>\n",
       "      <td>72.25</td>\n",
       "      <td>37.4</td>\n",
       "      <td>101.8</td>\n",
       "      <td>86.4</td>\n",
       "      <td>101.2</td>\n",
       "      <td>60.1</td>\n",
       "      <td>37.3</td>\n",
       "      <td>22.8</td>\n",
       "      <td>32.4</td>\n",
       "      <td>29.4</td>\n",
       "      <td>18.2</td>\n",
       "    </tr>\n",
       "    <tr>\n",
       "      <th>4</th>\n",
       "      <td>5</td>\n",
       "      <td>27.8</td>\n",
       "      <td>1.0340</td>\n",
       "      <td>24</td>\n",
       "      <td>184.25</td>\n",
       "      <td>71.25</td>\n",
       "      <td>34.4</td>\n",
       "      <td>97.3</td>\n",
       "      <td>100.0</td>\n",
       "      <td>101.9</td>\n",
       "      <td>63.2</td>\n",
       "      <td>42.2</td>\n",
       "      <td>24.0</td>\n",
       "      <td>32.2</td>\n",
       "      <td>27.7</td>\n",
       "      <td>17.7</td>\n",
       "    </tr>\n",
       "  </tbody>\n",
       "</table>\n",
       "</div>"
      ],
      "text/plain": [
       "   IDNO  BODYFAT  DENSITY  AGE  WEIGHT  HEIGHT  NECK  CHEST  ABDOMEN    HIP  \\\n",
       "0     1     12.6   1.0708   23  154.25   67.75  36.2   93.1     85.2   94.5   \n",
       "1     2      6.9   1.0853   22  173.25   72.25  38.5   93.6     83.0   98.7   \n",
       "2     3     24.6   1.0414   22  154.00   66.25  34.0   95.8     87.9   99.2   \n",
       "3     4     10.9   1.0751   26  184.75   72.25  37.4  101.8     86.4  101.2   \n",
       "4     5     27.8   1.0340   24  184.25   71.25  34.4   97.3    100.0  101.9   \n",
       "\n",
       "   THIGH  KNEE  ANKLE  BICEPS  FOREARM  WRIST  \n",
       "0   59.0  37.3   21.9    32.0     27.4   17.1  \n",
       "1   58.7  37.3   23.4    30.5     28.9   18.2  \n",
       "2   59.6  38.9   24.0    28.8     25.2   16.6  \n",
       "3   60.1  37.3   22.8    32.4     29.4   18.2  \n",
       "4   63.2  42.2   24.0    32.2     27.7   17.7  "
      ]
     },
     "execution_count": 161,
     "metadata": {},
     "output_type": "execute_result"
    }
   ],
   "source": [
    "# Load data\n",
    "bfp = pd.read_csv('BodyFatPercentage.csv')\n",
    "bfp.head()"
   ]
  },
  {
   "cell_type": "markdown",
   "id": "8299a462-44fa-49b7-b074-969188df1185",
   "metadata": {},
   "source": [
    "### Using sklearn\n",
    "\n",
    "Instead of bootstrapping manually, we can use scikit-learn's resample() function..."
   ]
  },
  {
   "cell_type": "code",
   "execution_count": 162,
   "id": "3dd93cac-c400-422e-a96d-6279e7605f71",
   "metadata": {},
   "outputs": [
    {
     "data": {
      "text/plain": [
       "[6, 10, 6, 1, 1, 2, 9, 8, 3]"
      ]
     },
     "execution_count": 162,
     "metadata": {},
     "output_type": "execute_result"
    }
   ],
   "source": [
    "from sklearn.utils import resample\n",
    "a = [1, 2, 3, 4, 5, 6, 8, 9, 10]\n",
    "b = resample(a, replace = True, n_samples = len(a), random_state = 1)\n",
    "b"
   ]
  },
  {
   "cell_type": "markdown",
   "id": "43170460-891c-4ffa-a52b-8355b65b7213",
   "metadata": {},
   "source": [
    "### Look at distribution of sample (population)\n",
    "\n",
    "**We can consider using an entire column to represent the population and select a random sample from the column to play with. Then we can compare to \"population\" to see how distributions differ.**\n",
    "\n",
    "### Bootstrap and calculate statistic\n",
    "\n",
    "###"
   ]
  },
  {
   "cell_type": "code",
   "execution_count": 163,
   "id": "943bc191-fd64-42c7-9b03-dee4a0c653e9",
   "metadata": {},
   "outputs": [
    {
     "name": "stdout",
     "output_type": "stream",
     "text": [
      "252\n"
     ]
    }
   ],
   "source": [
    "bf_mean = bfp['BODYFAT'].mean()\n",
    "pop_n = len(bfp)\n",
    "print(pop_n)"
   ]
  },
  {
   "cell_type": "code",
   "execution_count": 164,
   "id": "1ad313ff",
   "metadata": {},
   "outputs": [
    {
     "name": "stdout",
     "output_type": "stream",
     "text": [
      "Average Body Fat: 18.94\n",
      "Number of Observations: 252\n"
     ]
    }
   ],
   "source": [
    "print(f'''Average Body Fat: {bf_mean:.2f}\\nNumber of Observations: {pop_n}''')"
   ]
  },
  {
   "cell_type": "code",
   "execution_count": 165,
   "id": "1e5da8bd",
   "metadata": {},
   "outputs": [
    {
     "data": {
      "text/html": [
       "<div>\n",
       "<style scoped>\n",
       "    .dataframe tbody tr th:only-of-type {\n",
       "        vertical-align: middle;\n",
       "    }\n",
       "\n",
       "    .dataframe tbody tr th {\n",
       "        vertical-align: top;\n",
       "    }\n",
       "\n",
       "    .dataframe thead th {\n",
       "        text-align: right;\n",
       "    }\n",
       "</style>\n",
       "<table border=\"1\" class=\"dataframe\">\n",
       "  <thead>\n",
       "    <tr style=\"text-align: right;\">\n",
       "      <th></th>\n",
       "      <th>IDNO</th>\n",
       "      <th>BODYFAT</th>\n",
       "      <th>DENSITY</th>\n",
       "      <th>AGE</th>\n",
       "      <th>WEIGHT</th>\n",
       "      <th>HEIGHT</th>\n",
       "      <th>NECK</th>\n",
       "      <th>CHEST</th>\n",
       "      <th>ABDOMEN</th>\n",
       "      <th>HIP</th>\n",
       "      <th>THIGH</th>\n",
       "      <th>KNEE</th>\n",
       "      <th>ANKLE</th>\n",
       "      <th>BICEPS</th>\n",
       "      <th>FOREARM</th>\n",
       "      <th>WRIST</th>\n",
       "    </tr>\n",
       "  </thead>\n",
       "  <tbody>\n",
       "    <tr>\n",
       "      <th>28</th>\n",
       "      <td>29</td>\n",
       "      <td>4.7</td>\n",
       "      <td>1.0910</td>\n",
       "      <td>27</td>\n",
       "      <td>133.25</td>\n",
       "      <td>64.75</td>\n",
       "      <td>36.4</td>\n",
       "      <td>93.5</td>\n",
       "      <td>73.9</td>\n",
       "      <td>88.5</td>\n",
       "      <td>50.1</td>\n",
       "      <td>34.5</td>\n",
       "      <td>21.3</td>\n",
       "      <td>30.5</td>\n",
       "      <td>27.9</td>\n",
       "      <td>17.2</td>\n",
       "    </tr>\n",
       "    <tr>\n",
       "      <th>38</th>\n",
       "      <td>39</td>\n",
       "      <td>33.8</td>\n",
       "      <td>1.0202</td>\n",
       "      <td>46</td>\n",
       "      <td>363.15</td>\n",
       "      <td>72.25</td>\n",
       "      <td>51.2</td>\n",
       "      <td>136.2</td>\n",
       "      <td>148.1</td>\n",
       "      <td>147.7</td>\n",
       "      <td>87.3</td>\n",
       "      <td>49.1</td>\n",
       "      <td>29.6</td>\n",
       "      <td>45.0</td>\n",
       "      <td>29.0</td>\n",
       "      <td>21.4</td>\n",
       "    </tr>\n",
       "    <tr>\n",
       "      <th>4</th>\n",
       "      <td>5</td>\n",
       "      <td>27.8</td>\n",
       "      <td>1.0340</td>\n",
       "      <td>24</td>\n",
       "      <td>184.25</td>\n",
       "      <td>71.25</td>\n",
       "      <td>34.4</td>\n",
       "      <td>97.3</td>\n",
       "      <td>100.0</td>\n",
       "      <td>101.9</td>\n",
       "      <td>63.2</td>\n",
       "      <td>42.2</td>\n",
       "      <td>24.0</td>\n",
       "      <td>32.2</td>\n",
       "      <td>27.7</td>\n",
       "      <td>17.7</td>\n",
       "    </tr>\n",
       "    <tr>\n",
       "      <th>96</th>\n",
       "      <td>97</td>\n",
       "      <td>10.1</td>\n",
       "      <td>1.0770</td>\n",
       "      <td>38</td>\n",
       "      <td>188.75</td>\n",
       "      <td>73.25</td>\n",
       "      <td>37.5</td>\n",
       "      <td>99.1</td>\n",
       "      <td>91.6</td>\n",
       "      <td>102.4</td>\n",
       "      <td>60.6</td>\n",
       "      <td>39.4</td>\n",
       "      <td>22.9</td>\n",
       "      <td>31.6</td>\n",
       "      <td>30.1</td>\n",
       "      <td>18.5</td>\n",
       "    </tr>\n",
       "    <tr>\n",
       "      <th>86</th>\n",
       "      <td>87</td>\n",
       "      <td>15.0</td>\n",
       "      <td>1.0648</td>\n",
       "      <td>72</td>\n",
       "      <td>157.75</td>\n",
       "      <td>67.25</td>\n",
       "      <td>37.7</td>\n",
       "      <td>97.5</td>\n",
       "      <td>88.1</td>\n",
       "      <td>96.9</td>\n",
       "      <td>57.2</td>\n",
       "      <td>37.7</td>\n",
       "      <td>21.8</td>\n",
       "      <td>32.6</td>\n",
       "      <td>28.0</td>\n",
       "      <td>18.8</td>\n",
       "    </tr>\n",
       "    <tr>\n",
       "      <th>184</th>\n",
       "      <td>185</td>\n",
       "      <td>17.4</td>\n",
       "      <td>1.0587</td>\n",
       "      <td>40</td>\n",
       "      <td>170.50</td>\n",
       "      <td>74.25</td>\n",
       "      <td>37.7</td>\n",
       "      <td>98.9</td>\n",
       "      <td>90.4</td>\n",
       "      <td>95.5</td>\n",
       "      <td>55.4</td>\n",
       "      <td>38.9</td>\n",
       "      <td>22.4</td>\n",
       "      <td>30.5</td>\n",
       "      <td>28.9</td>\n",
       "      <td>17.7</td>\n",
       "    </tr>\n",
       "    <tr>\n",
       "      <th>132</th>\n",
       "      <td>133</td>\n",
       "      <td>23.1</td>\n",
       "      <td>1.0452</td>\n",
       "      <td>47</td>\n",
       "      <td>197.00</td>\n",
       "      <td>73.25</td>\n",
       "      <td>37.8</td>\n",
       "      <td>103.6</td>\n",
       "      <td>99.8</td>\n",
       "      <td>103.2</td>\n",
       "      <td>61.2</td>\n",
       "      <td>38.1</td>\n",
       "      <td>22.6</td>\n",
       "      <td>33.5</td>\n",
       "      <td>28.6</td>\n",
       "      <td>17.9</td>\n",
       "    </tr>\n",
       "    <tr>\n",
       "      <th>124</th>\n",
       "      <td>125</td>\n",
       "      <td>14.0</td>\n",
       "      <td>1.0674</td>\n",
       "      <td>50</td>\n",
       "      <td>161.00</td>\n",
       "      <td>66.50</td>\n",
       "      <td>37.7</td>\n",
       "      <td>98.9</td>\n",
       "      <td>84.1</td>\n",
       "      <td>94.0</td>\n",
       "      <td>58.5</td>\n",
       "      <td>36.6</td>\n",
       "      <td>23.5</td>\n",
       "      <td>34.4</td>\n",
       "      <td>29.2</td>\n",
       "      <td>18.0</td>\n",
       "    </tr>\n",
       "    <tr>\n",
       "      <th>58</th>\n",
       "      <td>59</td>\n",
       "      <td>30.4</td>\n",
       "      <td>1.0280</td>\n",
       "      <td>54</td>\n",
       "      <td>202.50</td>\n",
       "      <td>70.75</td>\n",
       "      <td>40.5</td>\n",
       "      <td>115.4</td>\n",
       "      <td>105.3</td>\n",
       "      <td>97.0</td>\n",
       "      <td>59.1</td>\n",
       "      <td>38.0</td>\n",
       "      <td>22.5</td>\n",
       "      <td>31.6</td>\n",
       "      <td>28.8</td>\n",
       "      <td>18.2</td>\n",
       "    </tr>\n",
       "    <tr>\n",
       "      <th>213</th>\n",
       "      <td>214</td>\n",
       "      <td>18.5</td>\n",
       "      <td>1.0561</td>\n",
       "      <td>50</td>\n",
       "      <td>194.75</td>\n",
       "      <td>70.75</td>\n",
       "      <td>39.0</td>\n",
       "      <td>103.7</td>\n",
       "      <td>97.6</td>\n",
       "      <td>104.2</td>\n",
       "      <td>60.0</td>\n",
       "      <td>40.9</td>\n",
       "      <td>25.5</td>\n",
       "      <td>32.7</td>\n",
       "      <td>30.0</td>\n",
       "      <td>19.0</td>\n",
       "    </tr>\n",
       "    <tr>\n",
       "      <th>114</th>\n",
       "      <td>115</td>\n",
       "      <td>25.9</td>\n",
       "      <td>1.0384</td>\n",
       "      <td>48</td>\n",
       "      <td>175.25</td>\n",
       "      <td>71.75</td>\n",
       "      <td>38.0</td>\n",
       "      <td>100.7</td>\n",
       "      <td>92.4</td>\n",
       "      <td>97.5</td>\n",
       "      <td>59.3</td>\n",
       "      <td>38.1</td>\n",
       "      <td>21.8</td>\n",
       "      <td>31.8</td>\n",
       "      <td>27.3</td>\n",
       "      <td>17.5</td>\n",
       "    </tr>\n",
       "    <tr>\n",
       "      <th>117</th>\n",
       "      <td>118</td>\n",
       "      <td>14.1</td>\n",
       "      <td>1.0671</td>\n",
       "      <td>51</td>\n",
       "      <td>179.00</td>\n",
       "      <td>72.00</td>\n",
       "      <td>41.0</td>\n",
       "      <td>99.2</td>\n",
       "      <td>90.0</td>\n",
       "      <td>96.4</td>\n",
       "      <td>56.8</td>\n",
       "      <td>38.8</td>\n",
       "      <td>23.3</td>\n",
       "      <td>33.4</td>\n",
       "      <td>29.8</td>\n",
       "      <td>19.5</td>\n",
       "    </tr>\n",
       "    <tr>\n",
       "      <th>168</th>\n",
       "      <td>169</td>\n",
       "      <td>34.7</td>\n",
       "      <td>1.0180</td>\n",
       "      <td>35</td>\n",
       "      <td>228.25</td>\n",
       "      <td>69.50</td>\n",
       "      <td>40.4</td>\n",
       "      <td>114.9</td>\n",
       "      <td>115.9</td>\n",
       "      <td>111.9</td>\n",
       "      <td>74.4</td>\n",
       "      <td>40.6</td>\n",
       "      <td>24.0</td>\n",
       "      <td>36.1</td>\n",
       "      <td>31.8</td>\n",
       "      <td>18.8</td>\n",
       "    </tr>\n",
       "    <tr>\n",
       "      <th>122</th>\n",
       "      <td>123</td>\n",
       "      <td>14.8</td>\n",
       "      <td>1.0652</td>\n",
       "      <td>40</td>\n",
       "      <td>160.25</td>\n",
       "      <td>68.75</td>\n",
       "      <td>36.9</td>\n",
       "      <td>99.3</td>\n",
       "      <td>83.3</td>\n",
       "      <td>97.5</td>\n",
       "      <td>60.5</td>\n",
       "      <td>38.7</td>\n",
       "      <td>22.6</td>\n",
       "      <td>34.4</td>\n",
       "      <td>28.0</td>\n",
       "      <td>17.6</td>\n",
       "    </tr>\n",
       "    <tr>\n",
       "      <th>59</th>\n",
       "      <td>60</td>\n",
       "      <td>24.0</td>\n",
       "      <td>1.0430</td>\n",
       "      <td>61</td>\n",
       "      <td>179.75</td>\n",
       "      <td>65.75</td>\n",
       "      <td>38.4</td>\n",
       "      <td>104.8</td>\n",
       "      <td>98.3</td>\n",
       "      <td>99.6</td>\n",
       "      <td>60.6</td>\n",
       "      <td>37.7</td>\n",
       "      <td>22.9</td>\n",
       "      <td>34.5</td>\n",
       "      <td>29.6</td>\n",
       "      <td>18.5</td>\n",
       "    </tr>\n",
       "  </tbody>\n",
       "</table>\n",
       "</div>"
      ],
      "text/plain": [
       "     IDNO  BODYFAT  DENSITY  AGE  WEIGHT  HEIGHT  NECK  CHEST  ABDOMEN    HIP  \\\n",
       "28     29      4.7   1.0910   27  133.25   64.75  36.4   93.5     73.9   88.5   \n",
       "38     39     33.8   1.0202   46  363.15   72.25  51.2  136.2    148.1  147.7   \n",
       "4       5     27.8   1.0340   24  184.25   71.25  34.4   97.3    100.0  101.9   \n",
       "96     97     10.1   1.0770   38  188.75   73.25  37.5   99.1     91.6  102.4   \n",
       "86     87     15.0   1.0648   72  157.75   67.25  37.7   97.5     88.1   96.9   \n",
       "184   185     17.4   1.0587   40  170.50   74.25  37.7   98.9     90.4   95.5   \n",
       "132   133     23.1   1.0452   47  197.00   73.25  37.8  103.6     99.8  103.2   \n",
       "124   125     14.0   1.0674   50  161.00   66.50  37.7   98.9     84.1   94.0   \n",
       "58     59     30.4   1.0280   54  202.50   70.75  40.5  115.4    105.3   97.0   \n",
       "213   214     18.5   1.0561   50  194.75   70.75  39.0  103.7     97.6  104.2   \n",
       "114   115     25.9   1.0384   48  175.25   71.75  38.0  100.7     92.4   97.5   \n",
       "117   118     14.1   1.0671   51  179.00   72.00  41.0   99.2     90.0   96.4   \n",
       "168   169     34.7   1.0180   35  228.25   69.50  40.4  114.9    115.9  111.9   \n",
       "122   123     14.8   1.0652   40  160.25   68.75  36.9   99.3     83.3   97.5   \n",
       "59     60     24.0   1.0430   61  179.75   65.75  38.4  104.8     98.3   99.6   \n",
       "\n",
       "     THIGH  KNEE  ANKLE  BICEPS  FOREARM  WRIST  \n",
       "28    50.1  34.5   21.3    30.5     27.9   17.2  \n",
       "38    87.3  49.1   29.6    45.0     29.0   21.4  \n",
       "4     63.2  42.2   24.0    32.2     27.7   17.7  \n",
       "96    60.6  39.4   22.9    31.6     30.1   18.5  \n",
       "86    57.2  37.7   21.8    32.6     28.0   18.8  \n",
       "184   55.4  38.9   22.4    30.5     28.9   17.7  \n",
       "132   61.2  38.1   22.6    33.5     28.6   17.9  \n",
       "124   58.5  36.6   23.5    34.4     29.2   18.0  \n",
       "58    59.1  38.0   22.5    31.6     28.8   18.2  \n",
       "213   60.0  40.9   25.5    32.7     30.0   19.0  \n",
       "114   59.3  38.1   21.8    31.8     27.3   17.5  \n",
       "117   56.8  38.8   23.3    33.4     29.8   19.5  \n",
       "168   74.4  40.6   24.0    36.1     31.8   18.8  \n",
       "122   60.5  38.7   22.6    34.4     28.0   17.6  \n",
       "59    60.6  37.7   22.9    34.5     29.6   18.5  "
      ]
     },
     "execution_count": 165,
     "metadata": {},
     "output_type": "execute_result"
    }
   ],
   "source": [
    "# Lets say that we only have N = 15:\n",
    "samp_n = 15\n",
    "sample_bfp = bfp.loc[random.sample(range(pop_n), samp_n)]\n",
    "sample_bfp"
   ]
  },
  {
   "cell_type": "code",
   "execution_count": 166,
   "id": "ebdc7994",
   "metadata": {},
   "outputs": [
    {
     "name": "stdout",
     "output_type": "stream",
     "text": [
      "Population Mean: 18.94\n",
      "Sample Mean: 20.55\n",
      "Statistical Confidence Interval: ['15.66', '25.45']\n",
      "Interval Range: 9.80\n"
     ]
    }
   ],
   "source": [
    "s = np.std(sample_bfp['BODYFAT'], ddof = 1)\n",
    "sample_mean = sample_bfp['BODYFAT'].mean()\n",
    "stat_ci = [sample_mean - t.ppf(1 - 0.05/2, samp_n-1)* (s / np.sqrt(n)), sample_mean + t.ppf(1 - 0.05/2, samp_n-1)* (s / np.sqrt(samp_n))]\n",
    "print(f'''Population Mean: {bf_mean:.2f}\\nSample Mean: {sample_mean:.2f}\\nStatistical Confidence Interval: {[f'{e:.2f}' for e in stat_ci]}\\nInterval Range: {stat_ci[1] - stat_ci[0]:.2f}''')"
   ]
  },
  {
   "cell_type": "code",
   "execution_count": 167,
   "id": "1af8bb03",
   "metadata": {},
   "outputs": [
    {
     "name": "stdout",
     "output_type": "stream",
     "text": [
      "Bootstrap Confidence Interval: ['15.71', '24.94']\n",
      "Interval Range: 9.24\n"
     ]
    }
   ],
   "source": [
    "resample_means = []\n",
    "for i in range(10_000):\n",
    "    inds = np.random.randint(0, samp_n-1, samp_n-1)\n",
    "    mean = sample_bfp['BODYFAT'].iloc[inds].mean()\n",
    "    resample_means.append(mean)\n",
    "    \n",
    "boot_mean = np.mean(resample_means)\n",
    "boot_ci = [np.quantile(resample_means, 0.025), np.quantile(resample_means, 0.975)]\n",
    "\n",
    "# print(f'''Statistical Confidence Interval: {[f'{e:.2f}' for e in stat_ci]}''')\n",
    "print(f'''Bootstrap Confidence Interval: {[f'{e:.2f}' for e in boot_ci]}\\nInterval Range: {boot_ci[1]-boot_ci[0]:.2f}''')"
   ]
  },
  {
   "cell_type": "code",
   "execution_count": 168,
   "id": "b985a730",
   "metadata": {},
   "outputs": [
    {
     "data": {
      "image/png": "[encoded data removed]",
      "text/plain": [
       "<Figure size 432x288 with 1 Axes>"
      ]
     },
     "metadata": {
      "needs_background": "light"
     },
     "output_type": "display_data"
    }
   ],
   "source": [
    "plt.hist(bfp['BODYFAT'],bins=20)\n",
    "plt.show()"
   ]
  },
  {
   "cell_type": "code",
   "execution_count": 169,
   "id": "0aadc333",
   "metadata": {},
   "outputs": [
    {
     "data": {
      "image/png": "[encoded data removed]",
      "text/plain": [
       "<Figure size 720x576 with 1 Axes>"
      ]
     },
     "metadata": {
      "needs_background": "light"
     },
     "output_type": "display_data"
    }
   ],
   "source": [
    "fig, ax = plt.subplots(figsize = (10,8))\n",
    "\n",
    "ax.hist(resample_means, alpha = .5, edgecolor = 'grey')\n",
    "ax.vlines(x = boot_mean, ymin = 0, ymax = 3000, color = 'red')\n",
    "ax.vlines(x = boot_ci[0], ymin = 0, ymax = 1000, color = 'red')\n",
    "ax.vlines(x = boot_ci[1], ymin = 0, ymax = 1000, color = 'red')\n",
    "ax.vlines(x = boot_mean, ymin = 0, ymax = 3000, color = 'red')\n",
    "\n",
    "ax.annotate(f'{boot_mean:.2f} (Mean)', (boot_mean-0.25, 3050))\n",
    "ax.annotate(f'{boot_ci[0]:.2f} (2.5th)', (boot_ci[0]-0.25, 1050))\n",
    "ax.annotate(f'{boot_ci[1]:.2f} (97.5th)', (boot_ci[1]-0.25, 1050))\n",
    "\n",
    "ax.spines['top'].set_visible(False)\n",
    "ax.spines['right'].set_visible(False)\n",
    "\n",
    "ax.set_title('Distribution of bootstrapped sample means', size = 16)\n",
    "\n",
    "plt.show()"
   ]
  },
  {
   "cell_type": "markdown",
   "id": "24b92f52",
   "metadata": {},
   "source": [
    "#### Example with Rsquared, a statistic that might not have a well known statistical calculation "
   ]
  },
  {
   "cell_type": "code",
   "execution_count": 170,
   "id": "f3622ceb",
   "metadata": {},
   "outputs": [
    {
     "name": "stdout",
     "output_type": "stream",
     "text": [
      "Population Rsquared_adj: 0.71\n",
      "Sample Rsquared_adj: 0.65\n"
     ]
    }
   ],
   "source": [
    "# Bootstrapping for Rsquared\n",
    "import statsmodels.formula.api as smf\n",
    "model = smf.ols('BODYFAT ~ ABDOMEN + WRIST + ANKLE + AGE', data = bfp).fit()\n",
    "\n",
    "# Model for a sample of the data\n",
    "samp_n = 30\n",
    "sample_bfp = bfp.loc[random.sample(range(pop_n), samp_n)]\n",
    "sample_model = smf.ols('BODYFAT ~ ABDOMEN + WRIST + ANKLE + AGE', data = sample_bfp).fit()\n",
    "\n",
    "print(f'Population Rsquared_adj: {model.rsquared_adj:.2f}\\nSample Rsquared_adj: {sample_model.rsquared_adj:.2f}')"
   ]
  },
  {
   "cell_type": "code",
   "execution_count": 171,
   "id": "8a147365",
   "metadata": {},
   "outputs": [
    {
     "name": "stdout",
     "output_type": "stream",
     "text": [
      "Bootstrap Confidence Interval (Adjusted Rsquared): ['0.46', '0.79']\n"
     ]
    }
   ],
   "source": [
    "adj_rsquareds = []\n",
    "\n",
    "for i in range(1_000):\n",
    "    inds = np.random.randint(0, samp_n-1, samp_n-1)\n",
    "    model = smf.ols('BODYFAT ~ ABDOMEN + WRIST + ANKLE + AGE', data = sample_bfp.iloc[inds]).fit()\n",
    "    rsq_adj = model.rsquared_adj\n",
    "    adj_rsquareds.append(rsq_adj)\n",
    "    \n",
    "boot_rsq_adj_mean = np.mean(adj_rsquareds)\n",
    "boot_rsq_adj_ci = [np.quantile(adj_rsquareds, 0.025), np.quantile(adj_rsquareds, 0.975)]\n",
    "print(f'''Bootstrap Confidence Interval (Adjusted Rsquared): {[f'{e:.2f}' for e in boot_rsq_adj_ci]}''')"
   ]
  },
  {
   "cell_type": "code",
   "execution_count": 172,
   "id": "25ee0f3f",
   "metadata": {},
   "outputs": [
    {
     "data": {
      "image/png": "[encoded data removed]",
      "text/plain": [
       "<Figure size 720x576 with 1 Axes>"
      ]
     },
     "metadata": {
      "needs_background": "light"
     },
     "output_type": "display_data"
    }
   ],
   "source": [
    "fig, ax = plt.subplots(figsize = (10,8))\n",
    "\n",
    "ax.hist(adj_rsquareds, alpha = .5, edgecolor = 'grey')\n",
    "ax.vlines(x = boot_rsq_adj_mean, ymin = 0, ymax = 280, color = 'red')\n",
    "ax.vlines(x = boot_rsq_adj_ci[0], ymin = 0, ymax = 100, color = 'red')\n",
    "ax.vlines(x = boot_rsq_adj_ci[1], ymin = 0, ymax = 100, color = 'red')\n",
    "ax.vlines(x = boot_rsq_adj_mean, ymin = 0, ymax = 280, color = 'red')\n",
    "\n",
    "ax.annotate(f'{boot_rsq_adj_mean:.2f} (Mean)', (boot_rsq_adj_mean-0.007, 285))\n",
    "ax.annotate(f'{boot_rsq_adj_ci[0]:.2f} (2.5th)', (boot_rsq_adj_ci[0]-0.007, 105))\n",
    "ax.annotate(f'{boot_rsq_adj_ci[1]:.2f} (97.5th)', (boot_rsq_adj_ci[1]-0.007, 105))\n",
    "\n",
    "ax.spines['top'].set_visible(False)\n",
    "ax.spines['right'].set_visible(False)\n",
    "\n",
    "ax.set_title('Distribution of Bootstrapped Sample Adj Rsquareds', size = 16)\n",
    "\n",
    "plt.show()"
   ]
  }
 ],
 "metadata": {
  "kernelspec": {
   "display_name": "Python 3",
   "language": "python",
   "name": "python3"
  },
  "language_info": {
   "codemirror_mode": {
    "name": "ipython",
    "version": 3
   },
   "file_extension": ".py",
   "mimetype": "text/x-python",
   "name": "python",
   "nbconvert_exporter": "python",
   "pygments_lexer": "ipython3",
   "version": "3.8.8"
  }
 },
 "nbformat": 4,
 "nbformat_minor": 5
}

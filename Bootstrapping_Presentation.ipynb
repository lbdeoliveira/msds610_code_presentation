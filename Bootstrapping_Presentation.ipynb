{
 "cells": [
  {
   "cell_type": "markdown",
   "id": "2751dab5-0689-470c-80b9-5b88eb575089",
   "metadata": {},
   "source": [
    "# Bootstrapping\n",
    "\n",
    "Lucas De Oliveira, Kooha Kwon, Melvin Vellera"
   ]
  },
  {
   "cell_type": "code",
   "execution_count": 18,
   "id": "27b9cdc7-a86a-4ac7-be9e-1e7b9510aa72",
   "metadata": {},
   "outputs": [],
   "source": [
    "import numpy as np\n",
    "import pandas as pd\n",
    "from collections import Counter\n",
    "import matplotlib.pyplot as plt\n",
    "from scipy.stats import t\n",
    "import random\n"
   ]
  },
  {
   "cell_type": "markdown",
   "id": "8ba62b52-b1f3-440c-960b-5e426324055c",
   "metadata": {},
   "source": [
    "## Quick Recap\n",
    "\n",
    "Bootstrapping is a technique of **iterative resampling with replacement** to make inferences about the general population without conducting more experiments.\n",
    "\n",
    "Say we ran an experiments with the following experimental results:"
   ]
  },
  {
   "cell_type": "code",
   "execution_count": 3,
   "id": "a989e6a6-c7b5-4980-83a8-077b58b42b74",
   "metadata": {},
   "outputs": [
    {
     "data": {
      "image/png": "[encoded data removed]",
      "text/plain": [
       "<Figure size 720x72 with 1 Axes>"
      ]
     },
     "metadata": {
      "needs_background": "light"
     },
     "output_type": "display_data"
    }
   ],
   "source": [
    "# Experimental sample\n",
    "exp_sample = [-3, -2.2, -2, 1, 1.5, 2, 3, 4]\n",
    "\n",
    "# Plot\n",
    "fig, ax = plt.subplots(figsize = (10, 1))\n",
    "ax.hlines(y = 0.0, xmax = 4.0, xmin = -4.0, color = 'grey')\n",
    "ax.scatter(exp_sample, [0]*len(exp_sample), s = 100)\n",
    "\n",
    "ax.set_yticks([])\n",
    "\n",
    "ax.spines['top'].set_visible(False)\n",
    "ax.spines['bottom'].set_visible(False)\n",
    "ax.spines['left'].set_visible(False)\n",
    "ax.spines['right'].set_visible(False)\n",
    "\n",
    "plt.show()"
   ]
  },
  {
   "cell_type": "markdown",
   "id": "c1214bf2-461a-484a-b8b9-d6a065f12275",
   "metadata": {},
   "source": [
    "Let's see what bootstrapped samples look like (re-run code cell to see variability of samples)..."
   ]
  },
  {
   "cell_type": "code",
   "execution_count": 4,
   "id": "92fe0a31-39ed-4a53-bfac-567a7b8370d9",
   "metadata": {},
   "outputs": [
    {
     "data": {
      "image/png": "[encoded data removed]",
      "text/plain": [
       "<Figure size 720x360 with 1 Axes>"
      ]
     },
     "metadata": {
      "needs_background": "light"
     },
     "output_type": "display_data"
    }
   ],
   "source": [
    "# Get two bootstrapped samples\n",
    "inds = np.random.randint(0,8,8)\n",
    "strap = [exp_sample[j] for j in inds]\n",
    "val_count = Counter(strap)\n",
    "\n",
    "bootstrap = []\n",
    "counts = []\n",
    "for val, count in val_count.items():\n",
    "    k = 1\n",
    "    while k <= count:\n",
    "        bootstrap.append(val)\n",
    "        counts.append(k)\n",
    "        k += 1       \n",
    "\n",
    "\n",
    "# Plot\n",
    "fig, ax = plt.subplots(figsize = (10, 5))\n",
    "\n",
    "ax.hlines(y = 1.0, xmax = 4.0, xmin = -4.0, color = 'grey')\n",
    "ax.scatter(bootstrap, counts, s = 100, color = 'red', alpha = .5)\n",
    "\n",
    "ax.set_yticks([])\n",
    "\n",
    "ax.spines['top'].set_visible(False)\n",
    "ax.spines['bottom'].set_visible(False)\n",
    "ax.spines['left'].set_visible(False)\n",
    "ax.spines['right'].set_visible(False)\n",
    "\n",
    "ax.vlines(x = np.mean(bootstrap), ymin = 0.0, ymax = 2.0, color = 'red')\n",
    "\n",
    "plt.tight_layout()\n",
    "plt.show()"
   ]
  },
  {
   "cell_type": "markdown",
   "id": "3b6e409b-8d78-4b8f-9873-9216ac397747",
   "metadata": {},
   "source": [
    "Finally, we can analyze the summary statistic(s) for our bootstrapped samples:"
   ]
  },
  {
   "cell_type": "code",
   "execution_count": 5,
   "id": "ec6bc514-8865-483b-a45b-d0f44ef489cd",
   "metadata": {},
   "outputs": [
    {
     "data": {
      "image/png": "[encoded data removed]",
      "text/plain": [
       "<Figure size 720x576 with 1 Axes>"
      ]
     },
     "metadata": {
      "needs_background": "light"
     },
     "output_type": "display_data"
    }
   ],
   "source": [
    "# Bootstrap 10,000 samples\n",
    "means = []\n",
    "\n",
    "for i in range(10_000):\n",
    "    inds = np.random.randint(0,7,8)\n",
    "    strap = [exp_sample[j] for j in inds]\n",
    "    means.append(np.mean(strap))\n",
    "\n",
    "# Plot\n",
    "fig, ax = plt.subplots(figsize = (10,8))\n",
    "\n",
    "ax.hist(means, alpha = .5, edgecolor = 'grey')\n",
    "ax.vlines(x = np.mean(means), ymin = 0, ymax = 2500, color = 'red')\n",
    "\n",
    "ax.spines['top'].set_visible(False)\n",
    "ax.spines['right'].set_visible(False)\n",
    "\n",
    "ax.set_title('Distribution of bootstrapped sample means', size = 16)\n",
    "\n",
    "plt.show()"
   ]
  },
  {
   "cell_type": "markdown",
   "id": "af152acf-ca30-4648-b3de-3e1414548845",
   "metadata": {},
   "source": [
    "## Example with Real Data\n",
    "\n",
    "**Description of example/data here** -- for now I have included BodyFatPercentage.csv"
   ]
  },
  {
   "cell_type": "markdown",
   "id": "e8251ab0-1ba5-4e8c-9dcd-5c6e6649200d",
   "metadata": {},
   "source": [
    "1. Take sample size 10 from one of the columns (we'll call the population)\n",
    "2. Use traditional t-dist for confidence interval (too wide)\n",
    "3. Bootstrap sample size 10 10,000x\n",
    "4. Compare to population"
   ]
  },
  {
   "cell_type": "code",
   "execution_count": 106,
   "id": "ad74a6c2-a6c5-4fb9-9fb2-e0c78b7bd8e7",
   "metadata": {},
   "outputs": [
    {
     "data": {
      "text/html": [
       "<div>\n",
       "<style scoped>\n",
       "    .dataframe tbody tr th:only-of-type {\n",
       "        vertical-align: middle;\n",
       "    }\n",
       "\n",
       "    .dataframe tbody tr th {\n",
       "        vertical-align: top;\n",
       "    }\n",
       "\n",
       "    .dataframe thead th {\n",
       "        text-align: right;\n",
       "    }\n",
       "</style>\n",
       "<table border=\"1\" class=\"dataframe\">\n",
       "  <thead>\n",
       "    <tr style=\"text-align: right;\">\n",
       "      <th></th>\n",
       "      <th>IDNO</th>\n",
       "      <th>BODYFAT</th>\n",
       "      <th>DENSITY</th>\n",
       "      <th>AGE</th>\n",
       "      <th>WEIGHT</th>\n",
       "      <th>HEIGHT</th>\n",
       "      <th>NECK</th>\n",
       "      <th>CHEST</th>\n",
       "      <th>ABDOMEN</th>\n",
       "      <th>HIP</th>\n",
       "      <th>THIGH</th>\n",
       "      <th>KNEE</th>\n",
       "      <th>ANKLE</th>\n",
       "      <th>BICEPS</th>\n",
       "      <th>FOREARM</th>\n",
       "      <th>WRIST</th>\n",
       "    </tr>\n",
       "  </thead>\n",
       "  <tbody>\n",
       "    <tr>\n",
       "      <th>0</th>\n",
       "      <td>1</td>\n",
       "      <td>12.6</td>\n",
       "      <td>1.0708</td>\n",
       "      <td>23</td>\n",
       "      <td>154.25</td>\n",
       "      <td>67.75</td>\n",
       "      <td>36.2</td>\n",
       "      <td>93.1</td>\n",
       "      <td>85.2</td>\n",
       "      <td>94.5</td>\n",
       "      <td>59.0</td>\n",
       "      <td>37.3</td>\n",
       "      <td>21.9</td>\n",
       "      <td>32.0</td>\n",
       "      <td>27.4</td>\n",
       "      <td>17.1</td>\n",
       "    </tr>\n",
       "    <tr>\n",
       "      <th>1</th>\n",
       "      <td>2</td>\n",
       "      <td>6.9</td>\n",
       "      <td>1.0853</td>\n",
       "      <td>22</td>\n",
       "      <td>173.25</td>\n",
       "      <td>72.25</td>\n",
       "      <td>38.5</td>\n",
       "      <td>93.6</td>\n",
       "      <td>83.0</td>\n",
       "      <td>98.7</td>\n",
       "      <td>58.7</td>\n",
       "      <td>37.3</td>\n",
       "      <td>23.4</td>\n",
       "      <td>30.5</td>\n",
       "      <td>28.9</td>\n",
       "      <td>18.2</td>\n",
       "    </tr>\n",
       "    <tr>\n",
       "      <th>2</th>\n",
       "      <td>3</td>\n",
       "      <td>24.6</td>\n",
       "      <td>1.0414</td>\n",
       "      <td>22</td>\n",
       "      <td>154.00</td>\n",
       "      <td>66.25</td>\n",
       "      <td>34.0</td>\n",
       "      <td>95.8</td>\n",
       "      <td>87.9</td>\n",
       "      <td>99.2</td>\n",
       "      <td>59.6</td>\n",
       "      <td>38.9</td>\n",
       "      <td>24.0</td>\n",
       "      <td>28.8</td>\n",
       "      <td>25.2</td>\n",
       "      <td>16.6</td>\n",
       "    </tr>\n",
       "    <tr>\n",
       "      <th>3</th>\n",
       "      <td>4</td>\n",
       "      <td>10.9</td>\n",
       "      <td>1.0751</td>\n",
       "      <td>26</td>\n",
       "      <td>184.75</td>\n",
       "      <td>72.25</td>\n",
       "      <td>37.4</td>\n",
       "      <td>101.8</td>\n",
       "      <td>86.4</td>\n",
       "      <td>101.2</td>\n",
       "      <td>60.1</td>\n",
       "      <td>37.3</td>\n",
       "      <td>22.8</td>\n",
       "      <td>32.4</td>\n",
       "      <td>29.4</td>\n",
       "      <td>18.2</td>\n",
       "    </tr>\n",
       "    <tr>\n",
       "      <th>4</th>\n",
       "      <td>5</td>\n",
       "      <td>27.8</td>\n",
       "      <td>1.0340</td>\n",
       "      <td>24</td>\n",
       "      <td>184.25</td>\n",
       "      <td>71.25</td>\n",
       "      <td>34.4</td>\n",
       "      <td>97.3</td>\n",
       "      <td>100.0</td>\n",
       "      <td>101.9</td>\n",
       "      <td>63.2</td>\n",
       "      <td>42.2</td>\n",
       "      <td>24.0</td>\n",
       "      <td>32.2</td>\n",
       "      <td>27.7</td>\n",
       "      <td>17.7</td>\n",
       "    </tr>\n",
       "  </tbody>\n",
       "</table>\n",
       "</div>"
      ],
      "text/plain": [
       "   IDNO  BODYFAT  DENSITY  AGE  WEIGHT  HEIGHT  NECK  CHEST  ABDOMEN    HIP  \\\n",
       "0     1     12.6   1.0708   23  154.25   67.75  36.2   93.1     85.2   94.5   \n",
       "1     2      6.9   1.0853   22  173.25   72.25  38.5   93.6     83.0   98.7   \n",
       "2     3     24.6   1.0414   22  154.00   66.25  34.0   95.8     87.9   99.2   \n",
       "3     4     10.9   1.0751   26  184.75   72.25  37.4  101.8     86.4  101.2   \n",
       "4     5     27.8   1.0340   24  184.25   71.25  34.4   97.3    100.0  101.9   \n",
       "\n",
       "   THIGH  KNEE  ANKLE  BICEPS  FOREARM  WRIST  \n",
       "0   59.0  37.3   21.9    32.0     27.4   17.1  \n",
       "1   58.7  37.3   23.4    30.5     28.9   18.2  \n",
       "2   59.6  38.9   24.0    28.8     25.2   16.6  \n",
       "3   60.1  37.3   22.8    32.4     29.4   18.2  \n",
       "4   63.2  42.2   24.0    32.2     27.7   17.7  "
      ]
     },
     "execution_count": 106,
     "metadata": {},
     "output_type": "execute_result"
    }
   ],
   "source": [
    "# Load data\n",
    "bfp = pd.read_csv('BodyFatPercentage.csv')\n",
    "bfp.head()"
   ]
  },
  {
   "cell_type": "markdown",
   "id": "8299a462-44fa-49b7-b074-969188df1185",
   "metadata": {},
   "source": [
    "### Using sklearn\n",
    "\n",
    "Instead of bootstrapping manually, we can use scikit-learn's resample() function..."
   ]
  },
  {
   "cell_type": "code",
   "execution_count": 107,
   "id": "3dd93cac-c400-422e-a96d-6279e7605f71",
   "metadata": {},
   "outputs": [
    {
     "data": {
      "text/plain": [
       "[6, 10, 6, 1, 1, 2, 9, 8, 3]"
      ]
     },
     "execution_count": 107,
     "metadata": {},
     "output_type": "execute_result"
    }
   ],
   "source": [
    "from sklearn.utils import resample\n",
    "a = [1, 2, 3, 4, 5, 6, 8, 9, 10]\n",
    "b = resample(a, replace = True, n_samples = len(a), random_state = 1)\n",
    "b"
   ]
  },
  {
   "cell_type": "code",
   "execution_count": null,
   "id": "19da0c04-2db4-417c-8810-2bea900458bf",
   "metadata": {},
   "outputs": [],
   "source": []
  },
  {
   "cell_type": "markdown",
   "id": "43170460-891c-4ffa-a52b-8355b65b7213",
   "metadata": {},
   "source": [
    "### Look at distribution of sample (population)\n",
    "\n",
    "**We can consider using an entire column to represent the population and select a random sample from the column to play with. Then we can compare to \"population\" to see how distributions differ.**\n",
    "\n",
    "### Bootstrap and calculate statistic\n",
    "\n",
    "###"
   ]
  },
  {
   "cell_type": "code",
   "execution_count": 126,
   "id": "943bc191-fd64-42c7-9b03-dee4a0c653e9",
   "metadata": {},
   "outputs": [
    {
     "name": "stdout",
     "output_type": "stream",
     "text": [
      "252\n"
     ]
    }
   ],
   "source": [
    "bf_mean = bfp['BODYFAT'].mean()\n",
    "pop_n = len(bfp)\n",
    "print(pop_n)"
   ]
  },
  {
   "cell_type": "code",
   "execution_count": 127,
   "id": "1ad313ff",
   "metadata": {},
   "outputs": [
    {
     "name": "stdout",
     "output_type": "stream",
     "text": [
      "Average Body Fat: 18.94\n",
      "Number of Observations: 252\n"
     ]
    }
   ],
   "source": [
    "print(f'''Average Body Fat: {bf_mean:.2f}\\nNumber of Observations: {pop_n}''')"
   ]
  },
  {
   "cell_type": "code",
   "execution_count": 128,
   "id": "1e5da8bd",
   "metadata": {},
   "outputs": [
    {
     "data": {
      "text/html": [
       "<div>\n",
       "<style scoped>\n",
       "    .dataframe tbody tr th:only-of-type {\n",
       "        vertical-align: middle;\n",
       "    }\n",
       "\n",
       "    .dataframe tbody tr th {\n",
       "        vertical-align: top;\n",
       "    }\n",
       "\n",
       "    .dataframe thead th {\n",
       "        text-align: right;\n",
       "    }\n",
       "</style>\n",
       "<table border=\"1\" class=\"dataframe\">\n",
       "  <thead>\n",
       "    <tr style=\"text-align: right;\">\n",
       "      <th></th>\n",
       "      <th>IDNO</th>\n",
       "      <th>BODYFAT</th>\n",
       "      <th>DENSITY</th>\n",
       "      <th>AGE</th>\n",
       "      <th>WEIGHT</th>\n",
       "      <th>HEIGHT</th>\n",
       "      <th>NECK</th>\n",
       "      <th>CHEST</th>\n",
       "      <th>ABDOMEN</th>\n",
       "      <th>HIP</th>\n",
       "      <th>THIGH</th>\n",
       "      <th>KNEE</th>\n",
       "      <th>ANKLE</th>\n",
       "      <th>BICEPS</th>\n",
       "      <th>FOREARM</th>\n",
       "      <th>WRIST</th>\n",
       "    </tr>\n",
       "  </thead>\n",
       "  <tbody>\n",
       "    <tr>\n",
       "      <th>67</th>\n",
       "      <td>68</td>\n",
       "      <td>14.0</td>\n",
       "      <td>1.0673</td>\n",
       "      <td>55</td>\n",
       "      <td>154.75</td>\n",
       "      <td>71.50</td>\n",
       "      <td>36.9</td>\n",
       "      <td>95.4</td>\n",
       "      <td>86.6</td>\n",
       "      <td>91.8</td>\n",
       "      <td>54.3</td>\n",
       "      <td>35.4</td>\n",
       "      <td>21.5</td>\n",
       "      <td>32.8</td>\n",
       "      <td>27.4</td>\n",
       "      <td>18.7</td>\n",
       "    </tr>\n",
       "    <tr>\n",
       "      <th>109</th>\n",
       "      <td>110</td>\n",
       "      <td>21.0</td>\n",
       "      <td>1.0500</td>\n",
       "      <td>40</td>\n",
       "      <td>168.50</td>\n",
       "      <td>69.25</td>\n",
       "      <td>34.2</td>\n",
       "      <td>97.8</td>\n",
       "      <td>92.3</td>\n",
       "      <td>100.6</td>\n",
       "      <td>57.5</td>\n",
       "      <td>36.8</td>\n",
       "      <td>22.8</td>\n",
       "      <td>32.1</td>\n",
       "      <td>26.0</td>\n",
       "      <td>17.3</td>\n",
       "    </tr>\n",
       "    <tr>\n",
       "      <th>56</th>\n",
       "      <td>57</td>\n",
       "      <td>20.1</td>\n",
       "      <td>1.0524</td>\n",
       "      <td>58</td>\n",
       "      <td>181.50</td>\n",
       "      <td>68.00</td>\n",
       "      <td>39.1</td>\n",
       "      <td>100.0</td>\n",
       "      <td>99.8</td>\n",
       "      <td>102.5</td>\n",
       "      <td>62.1</td>\n",
       "      <td>39.6</td>\n",
       "      <td>22.5</td>\n",
       "      <td>33.1</td>\n",
       "      <td>28.3</td>\n",
       "      <td>18.5</td>\n",
       "    </tr>\n",
       "    <tr>\n",
       "      <th>206</th>\n",
       "      <td>207</td>\n",
       "      <td>31.7</td>\n",
       "      <td>1.0250</td>\n",
       "      <td>44</td>\n",
       "      <td>166.00</td>\n",
       "      <td>65.50</td>\n",
       "      <td>39.1</td>\n",
       "      <td>100.6</td>\n",
       "      <td>93.9</td>\n",
       "      <td>100.1</td>\n",
       "      <td>58.9</td>\n",
       "      <td>37.6</td>\n",
       "      <td>21.4</td>\n",
       "      <td>33.1</td>\n",
       "      <td>29.5</td>\n",
       "      <td>17.3</td>\n",
       "    </tr>\n",
       "    <tr>\n",
       "      <th>26</th>\n",
       "      <td>27</td>\n",
       "      <td>8.5</td>\n",
       "      <td>1.0811</td>\n",
       "      <td>34</td>\n",
       "      <td>131.50</td>\n",
       "      <td>67.50</td>\n",
       "      <td>36.2</td>\n",
       "      <td>88.6</td>\n",
       "      <td>74.6</td>\n",
       "      <td>85.3</td>\n",
       "      <td>51.7</td>\n",
       "      <td>34.7</td>\n",
       "      <td>21.4</td>\n",
       "      <td>28.7</td>\n",
       "      <td>27.0</td>\n",
       "      <td>16.5</td>\n",
       "    </tr>\n",
       "    <tr>\n",
       "      <th>170</th>\n",
       "      <td>171</td>\n",
       "      <td>4.1</td>\n",
       "      <td>1.0926</td>\n",
       "      <td>35</td>\n",
       "      <td>152.25</td>\n",
       "      <td>67.75</td>\n",
       "      <td>37.0</td>\n",
       "      <td>92.2</td>\n",
       "      <td>81.9</td>\n",
       "      <td>92.8</td>\n",
       "      <td>54.7</td>\n",
       "      <td>36.2</td>\n",
       "      <td>22.1</td>\n",
       "      <td>30.4</td>\n",
       "      <td>27.4</td>\n",
       "      <td>17.7</td>\n",
       "    </tr>\n",
       "    <tr>\n",
       "      <th>108</th>\n",
       "      <td>109</td>\n",
       "      <td>17.2</td>\n",
       "      <td>1.0593</td>\n",
       "      <td>43</td>\n",
       "      <td>194.00</td>\n",
       "      <td>75.50</td>\n",
       "      <td>38.5</td>\n",
       "      <td>110.1</td>\n",
       "      <td>88.7</td>\n",
       "      <td>102.1</td>\n",
       "      <td>57.5</td>\n",
       "      <td>40.0</td>\n",
       "      <td>24.8</td>\n",
       "      <td>35.1</td>\n",
       "      <td>30.7</td>\n",
       "      <td>19.2</td>\n",
       "    </tr>\n",
       "    <tr>\n",
       "      <th>25</th>\n",
       "      <td>26</td>\n",
       "      <td>4.6</td>\n",
       "      <td>1.0911</td>\n",
       "      <td>27</td>\n",
       "      <td>159.25</td>\n",
       "      <td>71.50</td>\n",
       "      <td>35.7</td>\n",
       "      <td>89.6</td>\n",
       "      <td>79.7</td>\n",
       "      <td>96.5</td>\n",
       "      <td>55.0</td>\n",
       "      <td>36.7</td>\n",
       "      <td>22.5</td>\n",
       "      <td>29.9</td>\n",
       "      <td>28.2</td>\n",
       "      <td>17.7</td>\n",
       "    </tr>\n",
       "    <tr>\n",
       "      <th>114</th>\n",
       "      <td>115</td>\n",
       "      <td>25.9</td>\n",
       "      <td>1.0384</td>\n",
       "      <td>48</td>\n",
       "      <td>175.25</td>\n",
       "      <td>71.75</td>\n",
       "      <td>38.0</td>\n",
       "      <td>100.7</td>\n",
       "      <td>92.4</td>\n",
       "      <td>97.5</td>\n",
       "      <td>59.3</td>\n",
       "      <td>38.1</td>\n",
       "      <td>21.8</td>\n",
       "      <td>31.8</td>\n",
       "      <td>27.3</td>\n",
       "      <td>17.5</td>\n",
       "    </tr>\n",
       "    <tr>\n",
       "      <th>245</th>\n",
       "      <td>246</td>\n",
       "      <td>15.3</td>\n",
       "      <td>1.0641</td>\n",
       "      <td>68</td>\n",
       "      <td>155.50</td>\n",
       "      <td>69.25</td>\n",
       "      <td>36.3</td>\n",
       "      <td>97.4</td>\n",
       "      <td>84.3</td>\n",
       "      <td>94.4</td>\n",
       "      <td>54.3</td>\n",
       "      <td>37.5</td>\n",
       "      <td>22.6</td>\n",
       "      <td>29.2</td>\n",
       "      <td>27.3</td>\n",
       "      <td>18.5</td>\n",
       "    </tr>\n",
       "    <tr>\n",
       "      <th>191</th>\n",
       "      <td>192</td>\n",
       "      <td>36.5</td>\n",
       "      <td>1.0140</td>\n",
       "      <td>42</td>\n",
       "      <td>244.25</td>\n",
       "      <td>76.00</td>\n",
       "      <td>41.8</td>\n",
       "      <td>115.2</td>\n",
       "      <td>113.7</td>\n",
       "      <td>112.4</td>\n",
       "      <td>68.5</td>\n",
       "      <td>45.0</td>\n",
       "      <td>25.5</td>\n",
       "      <td>37.1</td>\n",
       "      <td>31.2</td>\n",
       "      <td>19.9</td>\n",
       "    </tr>\n",
       "    <tr>\n",
       "      <th>152</th>\n",
       "      <td>153</td>\n",
       "      <td>10.6</td>\n",
       "      <td>1.0758</td>\n",
       "      <td>27</td>\n",
       "      <td>146.00</td>\n",
       "      <td>72.25</td>\n",
       "      <td>34.1</td>\n",
       "      <td>88.5</td>\n",
       "      <td>72.8</td>\n",
       "      <td>91.1</td>\n",
       "      <td>53.6</td>\n",
       "      <td>36.8</td>\n",
       "      <td>23.8</td>\n",
       "      <td>27.8</td>\n",
       "      <td>26.3</td>\n",
       "      <td>17.4</td>\n",
       "    </tr>\n",
       "    <tr>\n",
       "      <th>28</th>\n",
       "      <td>29</td>\n",
       "      <td>4.7</td>\n",
       "      <td>1.0910</td>\n",
       "      <td>27</td>\n",
       "      <td>133.25</td>\n",
       "      <td>64.75</td>\n",
       "      <td>36.4</td>\n",
       "      <td>93.5</td>\n",
       "      <td>73.9</td>\n",
       "      <td>88.5</td>\n",
       "      <td>50.1</td>\n",
       "      <td>34.5</td>\n",
       "      <td>21.3</td>\n",
       "      <td>30.5</td>\n",
       "      <td>27.9</td>\n",
       "      <td>17.2</td>\n",
       "    </tr>\n",
       "    <tr>\n",
       "      <th>238</th>\n",
       "      <td>239</td>\n",
       "      <td>12.7</td>\n",
       "      <td>1.0705</td>\n",
       "      <td>64</td>\n",
       "      <td>155.25</td>\n",
       "      <td>69.50</td>\n",
       "      <td>37.9</td>\n",
       "      <td>95.8</td>\n",
       "      <td>82.8</td>\n",
       "      <td>94.5</td>\n",
       "      <td>61.2</td>\n",
       "      <td>39.1</td>\n",
       "      <td>22.3</td>\n",
       "      <td>29.8</td>\n",
       "      <td>28.9</td>\n",
       "      <td>18.3</td>\n",
       "    </tr>\n",
       "    <tr>\n",
       "      <th>7</th>\n",
       "      <td>8</td>\n",
       "      <td>12.8</td>\n",
       "      <td>1.0704</td>\n",
       "      <td>25</td>\n",
       "      <td>176.00</td>\n",
       "      <td>72.50</td>\n",
       "      <td>37.8</td>\n",
       "      <td>99.6</td>\n",
       "      <td>88.5</td>\n",
       "      <td>97.1</td>\n",
       "      <td>60.0</td>\n",
       "      <td>39.4</td>\n",
       "      <td>23.2</td>\n",
       "      <td>30.5</td>\n",
       "      <td>29.0</td>\n",
       "      <td>18.8</td>\n",
       "    </tr>\n",
       "  </tbody>\n",
       "</table>\n",
       "</div>"
      ],
      "text/plain": [
       "     IDNO  BODYFAT  DENSITY  AGE  WEIGHT  HEIGHT  NECK  CHEST  ABDOMEN    HIP  \\\n",
       "67     68     14.0   1.0673   55  154.75   71.50  36.9   95.4     86.6   91.8   \n",
       "109   110     21.0   1.0500   40  168.50   69.25  34.2   97.8     92.3  100.6   \n",
       "56     57     20.1   1.0524   58  181.50   68.00  39.1  100.0     99.8  102.5   \n",
       "206   207     31.7   1.0250   44  166.00   65.50  39.1  100.6     93.9  100.1   \n",
       "26     27      8.5   1.0811   34  131.50   67.50  36.2   88.6     74.6   85.3   \n",
       "170   171      4.1   1.0926   35  152.25   67.75  37.0   92.2     81.9   92.8   \n",
       "108   109     17.2   1.0593   43  194.00   75.50  38.5  110.1     88.7  102.1   \n",
       "25     26      4.6   1.0911   27  159.25   71.50  35.7   89.6     79.7   96.5   \n",
       "114   115     25.9   1.0384   48  175.25   71.75  38.0  100.7     92.4   97.5   \n",
       "245   246     15.3   1.0641   68  155.50   69.25  36.3   97.4     84.3   94.4   \n",
       "191   192     36.5   1.0140   42  244.25   76.00  41.8  115.2    113.7  112.4   \n",
       "152   153     10.6   1.0758   27  146.00   72.25  34.1   88.5     72.8   91.1   \n",
       "28     29      4.7   1.0910   27  133.25   64.75  36.4   93.5     73.9   88.5   \n",
       "238   239     12.7   1.0705   64  155.25   69.50  37.9   95.8     82.8   94.5   \n",
       "7       8     12.8   1.0704   25  176.00   72.50  37.8   99.6     88.5   97.1   \n",
       "\n",
       "     THIGH  KNEE  ANKLE  BICEPS  FOREARM  WRIST  \n",
       "67    54.3  35.4   21.5    32.8     27.4   18.7  \n",
       "109   57.5  36.8   22.8    32.1     26.0   17.3  \n",
       "56    62.1  39.6   22.5    33.1     28.3   18.5  \n",
       "206   58.9  37.6   21.4    33.1     29.5   17.3  \n",
       "26    51.7  34.7   21.4    28.7     27.0   16.5  \n",
       "170   54.7  36.2   22.1    30.4     27.4   17.7  \n",
       "108   57.5  40.0   24.8    35.1     30.7   19.2  \n",
       "25    55.0  36.7   22.5    29.9     28.2   17.7  \n",
       "114   59.3  38.1   21.8    31.8     27.3   17.5  \n",
       "245   54.3  37.5   22.6    29.2     27.3   18.5  \n",
       "191   68.5  45.0   25.5    37.1     31.2   19.9  \n",
       "152   53.6  36.8   23.8    27.8     26.3   17.4  \n",
       "28    50.1  34.5   21.3    30.5     27.9   17.2  \n",
       "238   61.2  39.1   22.3    29.8     28.9   18.3  \n",
       "7     60.0  39.4   23.2    30.5     29.0   18.8  "
      ]
     },
     "execution_count": 128,
     "metadata": {},
     "output_type": "execute_result"
    }
   ],
   "source": [
    "# Lets say that we only have N = 15:\n",
    "\n",
    "sample_bfp = bfp.loc[random.sample(range(252), 15)]\n",
    "sample_bfp"
   ]
  },
  {
   "cell_type": "code",
   "execution_count": 129,
   "id": "ebdc7994",
   "metadata": {},
   "outputs": [
    {
     "name": "stdout",
     "output_type": "stream",
     "text": [
      "Statistical Confidence Interval: ['15.31', '22.57']\n"
     ]
    }
   ],
   "source": [
    "s = np.std(bfp['BODYFAT'], ddof = 1)\n",
    "stat_ci = [bf_mean - t.ppf(1 - 0.05/2, n-1)* (s / np.sqrt(n)), bf_mean + t.ppf(1 - 0.05/2, n-1)* (s / np.sqrt(n))]\n",
    "print(f'''Statistical Confidence Interval: {[f'{e:.2f}' for e in stat_ci]}''')"
   ]
  },
  {
   "cell_type": "code",
   "execution_count": 130,
   "id": "1af8bb03",
   "metadata": {},
   "outputs": [],
   "source": [
    "means = []\n",
    "for i in range(1000000):\n",
    "    inds = np.random.randint(0,14, 14)\n",
    "    mean = sample_bfp['BODYFAT'].iloc[inds].mean()\n",
    "    means.append(mean)"
   ]
  },
  {
   "cell_type": "code",
   "execution_count": 131,
   "id": "13df2206",
   "metadata": {},
   "outputs": [],
   "source": [
    "boot_mean = np.mean(means)\n",
    "boot_ci = [np.quantile(means, 0.025), np.quantile(means, 0.975)]"
   ]
  },
  {
   "cell_type": "code",
   "execution_count": 132,
   "id": "40d6e661",
   "metadata": {},
   "outputs": [
    {
     "name": "stdout",
     "output_type": "stream",
     "text": [
      "Statistical Confidence Interval: ['15.31', '22.57']\n",
      "Bootstrap Confidence Interval: ['11.37', '21.46']\n"
     ]
    }
   ],
   "source": [
    "print(f'''Statistical Confidence Interval: {[f'{e:.2f}' for e in stat_ci]}''')\n",
    "print(f'''Bootstrap Confidence Interval: {[f'{e:.2f}' for e in boot_ci]}''')"
   ]
  },
  {
   "cell_type": "code",
   "execution_count": null,
   "id": "440fcbfb",
   "metadata": {},
   "outputs": [],
   "source": []
  },
  {
   "cell_type": "code",
   "execution_count": 133,
   "id": "b985a730",
   "metadata": {},
   "outputs": [
    {
     "data": {
      "text/plain": [
       "(array([ 2.,  1.,  9., 14., 21., 22., 21., 25., 27., 29., 22., 20., 16.,\n",
       "        12.,  7.,  1.,  2.,  0.,  0.,  1.]),\n",
       " array([ 0.   ,  2.255,  4.51 ,  6.765,  9.02 , 11.275, 13.53 , 15.785,\n",
       "        18.04 , 20.295, 22.55 , 24.805, 27.06 , 29.315, 31.57 , 33.825,\n",
       "        36.08 , 38.335, 40.59 , 42.845, 45.1  ]),\n",
       " <BarContainer object of 20 artists>)"
      ]
     },
     "execution_count": 133,
     "metadata": {},
     "output_type": "execute_result"
    },
    {
     "data": {
      "image/png": "[encoded data removed]",
      "text/plain": [
       "<Figure size 432x288 with 1 Axes>"
      ]
     },
     "metadata": {
      "needs_background": "light"
     },
     "output_type": "display_data"
    }
   ],
   "source": [
    "plt.hist(bfp['BODYFAT'],bins=20)"
   ]
  },
  {
   "cell_type": "code",
   "execution_count": null,
   "id": "0aadc333",
   "metadata": {},
   "outputs": [],
   "source": []
  },
  {
   "cell_type": "code",
   "execution_count": null,
   "id": "79951266",
   "metadata": {},
   "outputs": [],
   "source": []
  }
 ],
 "metadata": {
  "kernelspec": {
   "display_name": "Python 3 (ipykernel)",
   "language": "python",
   "name": "python3"
  },
  "language_info": {
   "codemirror_mode": {
    "name": "ipython",
    "version": 3
   },
   "file_extension": ".py",
   "mimetype": "text/x-python",
   "name": "python",
   "nbconvert_exporter": "python",
   "pygments_lexer": "ipython3",
   "version": "3.8.11"
  }
 },
 "nbformat": 4,
 "nbformat_minor": 5
}

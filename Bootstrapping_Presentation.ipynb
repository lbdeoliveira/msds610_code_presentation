{
 "cells": [
  {
   "cell_type": "markdown",
   "id": "2751dab5-0689-470c-80b9-5b88eb575089",
   "metadata": {},
   "source": [
    "# Bootstrapping\n",
    "\n",
    "Lucas De Oliveira, Kooha Kwon, Melvin Vellera"
   ]
  },
  {
   "cell_type": "code",
   "execution_count": 1,
   "id": "27b9cdc7-a86a-4ac7-be9e-1e7b9510aa72",
   "metadata": {},
   "outputs": [],
   "source": [
    "import numpy as np\n",
    "import pandas as pd\n",
    "from collections import Counter\n",
    "import matplotlib.pyplot as plt\n",
    "from scipy.stats import t\n",
    "import random"
   ]
  },
  {
   "cell_type": "markdown",
   "id": "8ba62b52-b1f3-440c-960b-5e426324055c",
   "metadata": {},
   "source": [
    "## Quick Recap\n",
    "\n",
    "Bootstrapping is a technique of **iterative resampling with replacement** to make inferences about the general population without conducting more experiments.\n",
    "\n",
    "Say we ran an experiment and collected the following results:"
   ]
  },
  {
   "cell_type": "code",
   "execution_count": 3,
   "id": "a989e6a6-c7b5-4980-83a8-077b58b42b74",
   "metadata": {},
   "outputs": [
    {
     "data": {
      "image/png": "[encoded data removed]",
      "text/plain": [
       "<Figure size 720x72 with 1 Axes>"
      ]
     },
     "metadata": {
      "needs_background": "light"
     },
     "output_type": "display_data"
    }
   ],
   "source": [
    "# Experimental sample\n",
    "exp_sample = [-3, -2.2, -2, 1, 1.5, 2, 3, 4]\n",
    "\n",
    "# Plot\n",
    "fig, ax = plt.subplots(figsize=(10, 1))\n",
    "ax.hlines(y=0.0, xmax=4.0, xmin=-4.0, color='grey')\n",
    "ax.scatter(exp_sample, [0]*len(exp_sample), s=100)\n",
    "\n",
    "ax.set_yticks([])\n",
    "\n",
    "ax.spines['top'].set_visible(False)\n",
    "ax.spines['bottom'].set_visible(False)\n",
    "ax.spines['left'].set_visible(False)\n",
    "ax.spines['right'].set_visible(False)\n",
    "\n",
    "plt.show()"
   ]
  },
  {
   "cell_type": "markdown",
   "id": "c1214bf2-461a-484a-b8b9-d6a065f12275",
   "metadata": {},
   "source": [
    "Let's see what bootstrapped samples look like (re-run code cell to see variability of samples)..."
   ]
  },
  {
   "cell_type": "code",
   "execution_count": 4,
   "id": "92fe0a31-39ed-4a53-bfac-567a7b8370d9",
   "metadata": {},
   "outputs": [
    {
     "data": {
      "image/png": "[encoded data removed]",
      "text/plain": [
       "<Figure size 720x360 with 1 Axes>"
      ]
     },
     "metadata": {
      "needs_background": "light"
     },
     "output_type": "display_data"
    }
   ],
   "source": [
    "# Get bootstrapped sample with counts\n",
    "inds = np.random.randint(0, 8, 8)\n",
    "strap = [exp_sample[j] for j in inds]\n",
    "val_count = Counter(strap)\n",
    "\n",
    "bootstrap = []\n",
    "counts = []\n",
    "for val, count in val_count.items():\n",
    "    k = 1\n",
    "    while k <= count:\n",
    "        bootstrap.append(val)\n",
    "        counts.append(k)\n",
    "        k += 1\n",
    "\n",
    "\n",
    "# Plot\n",
    "fig, ax = plt.subplots(figsize=(10, 5))\n",
    "\n",
    "ax.hlines(y=1.0, xmax=4.0, xmin=-4.0, color='grey')\n",
    "ax.scatter(bootstrap, counts, s=100, color='red', alpha=.5)\n",
    "\n",
    "ax.set_yticks([])\n",
    "\n",
    "ax.spines['top'].set_visible(False)\n",
    "ax.spines['bottom'].set_visible(False)\n",
    "ax.spines['left'].set_visible(False)\n",
    "ax.spines['right'].set_visible(False)\n",
    "\n",
    "ax.vlines(x=np.mean(bootstrap), ymin=0.0, ymax=2.0, color='red')\n",
    "\n",
    "plt.tight_layout()\n",
    "plt.show()"
   ]
  },
  {
   "cell_type": "markdown",
   "id": "3b6e409b-8d78-4b8f-9873-9216ac397747",
   "metadata": {},
   "source": [
    "Finally, we can analyze the summary statistic(s) for our bootstrapped samples:"
   ]
  },
  {
   "cell_type": "code",
   "execution_count": 7,
   "id": "ec6bc514-8865-483b-a45b-d0f44ef489cd",
   "metadata": {},
   "outputs": [
    {
     "data": {
      "image/png": "[encoded data removed]",
      "text/plain": [
       "<Figure size 720x576 with 1 Axes>"
      ]
     },
     "metadata": {
      "needs_background": "light"
     },
     "output_type": "display_data"
    }
   ],
   "source": [
    "# Bootstrap 10,000 samples\n",
    "means = []\n",
    "\n",
    "for i in range(10_000):\n",
    "    inds = np.random.randint(0, 8, 8)\n",
    "    strap = [exp_sample[j] for j in inds]\n",
    "    means.append(np.mean(strap))\n",
    "\n",
    "# Plot\n",
    "fig, ax = plt.subplots(figsize=(10, 8))\n",
    "\n",
    "ax.hist(means, alpha=.5, edgecolor='grey')\n",
    "ax.vlines(x=np.mean(means), ymin=0, ymax=2700, color='red')\n",
    "ax.annotate(f'{np.mean(means):.2f} (Mean)', (np.mean(means), 2700))\n",
    "\n",
    "ax.spines['top'].set_visible(False)\n",
    "ax.spines['right'].set_visible(False)\n",
    "\n",
    "ax.set_title('Distribution of bootstrapped sample means', size=16)\n",
    "\n",
    "plt.show()"
   ]
  },
  {
   "cell_type": "markdown",
   "id": "af152acf-ca30-4648-b3de-3e1414548845",
   "metadata": {},
   "source": [
    "## Real Data Example: Body Fat Percentage\n"
   ]
  },
  {
   "cell_type": "code",
   "execution_count": 5,
   "id": "ad74a6c2-a6c5-4fb9-9fb2-e0c78b7bd8e7",
   "metadata": {},
   "outputs": [
    {
     "data": {
      "text/html": [
       "<div>\n",
       "<style scoped>\n",
       "    .dataframe tbody tr th:only-of-type {\n",
       "        vertical-align: middle;\n",
       "    }\n",
       "\n",
       "    .dataframe tbody tr th {\n",
       "        vertical-align: top;\n",
       "    }\n",
       "\n",
       "    .dataframe thead th {\n",
       "        text-align: right;\n",
       "    }\n",
       "</style>\n",
       "<table border=\"1\" class=\"dataframe\">\n",
       "  <thead>\n",
       "    <tr style=\"text-align: right;\">\n",
       "      <th></th>\n",
       "      <th>IDNO</th>\n",
       "      <th>BODYFAT</th>\n",
       "      <th>DENSITY</th>\n",
       "      <th>AGE</th>\n",
       "      <th>WEIGHT</th>\n",
       "      <th>HEIGHT</th>\n",
       "      <th>NECK</th>\n",
       "      <th>CHEST</th>\n",
       "      <th>ABDOMEN</th>\n",
       "      <th>HIP</th>\n",
       "      <th>THIGH</th>\n",
       "      <th>KNEE</th>\n",
       "      <th>ANKLE</th>\n",
       "      <th>BICEPS</th>\n",
       "      <th>FOREARM</th>\n",
       "      <th>WRIST</th>\n",
       "    </tr>\n",
       "  </thead>\n",
       "  <tbody>\n",
       "    <tr>\n",
       "      <th>0</th>\n",
       "      <td>1</td>\n",
       "      <td>12.6</td>\n",
       "      <td>1.0708</td>\n",
       "      <td>23</td>\n",
       "      <td>154.25</td>\n",
       "      <td>67.75</td>\n",
       "      <td>36.2</td>\n",
       "      <td>93.1</td>\n",
       "      <td>85.2</td>\n",
       "      <td>94.5</td>\n",
       "      <td>59.0</td>\n",
       "      <td>37.3</td>\n",
       "      <td>21.9</td>\n",
       "      <td>32.0</td>\n",
       "      <td>27.4</td>\n",
       "      <td>17.1</td>\n",
       "    </tr>\n",
       "    <tr>\n",
       "      <th>1</th>\n",
       "      <td>2</td>\n",
       "      <td>6.9</td>\n",
       "      <td>1.0853</td>\n",
       "      <td>22</td>\n",
       "      <td>173.25</td>\n",
       "      <td>72.25</td>\n",
       "      <td>38.5</td>\n",
       "      <td>93.6</td>\n",
       "      <td>83.0</td>\n",
       "      <td>98.7</td>\n",
       "      <td>58.7</td>\n",
       "      <td>37.3</td>\n",
       "      <td>23.4</td>\n",
       "      <td>30.5</td>\n",
       "      <td>28.9</td>\n",
       "      <td>18.2</td>\n",
       "    </tr>\n",
       "    <tr>\n",
       "      <th>2</th>\n",
       "      <td>3</td>\n",
       "      <td>24.6</td>\n",
       "      <td>1.0414</td>\n",
       "      <td>22</td>\n",
       "      <td>154.00</td>\n",
       "      <td>66.25</td>\n",
       "      <td>34.0</td>\n",
       "      <td>95.8</td>\n",
       "      <td>87.9</td>\n",
       "      <td>99.2</td>\n",
       "      <td>59.6</td>\n",
       "      <td>38.9</td>\n",
       "      <td>24.0</td>\n",
       "      <td>28.8</td>\n",
       "      <td>25.2</td>\n",
       "      <td>16.6</td>\n",
       "    </tr>\n",
       "    <tr>\n",
       "      <th>3</th>\n",
       "      <td>4</td>\n",
       "      <td>10.9</td>\n",
       "      <td>1.0751</td>\n",
       "      <td>26</td>\n",
       "      <td>184.75</td>\n",
       "      <td>72.25</td>\n",
       "      <td>37.4</td>\n",
       "      <td>101.8</td>\n",
       "      <td>86.4</td>\n",
       "      <td>101.2</td>\n",
       "      <td>60.1</td>\n",
       "      <td>37.3</td>\n",
       "      <td>22.8</td>\n",
       "      <td>32.4</td>\n",
       "      <td>29.4</td>\n",
       "      <td>18.2</td>\n",
       "    </tr>\n",
       "    <tr>\n",
       "      <th>4</th>\n",
       "      <td>5</td>\n",
       "      <td>27.8</td>\n",
       "      <td>1.0340</td>\n",
       "      <td>24</td>\n",
       "      <td>184.25</td>\n",
       "      <td>71.25</td>\n",
       "      <td>34.4</td>\n",
       "      <td>97.3</td>\n",
       "      <td>100.0</td>\n",
       "      <td>101.9</td>\n",
       "      <td>63.2</td>\n",
       "      <td>42.2</td>\n",
       "      <td>24.0</td>\n",
       "      <td>32.2</td>\n",
       "      <td>27.7</td>\n",
       "      <td>17.7</td>\n",
       "    </tr>\n",
       "  </tbody>\n",
       "</table>\n",
       "</div>"
      ],
      "text/plain": [
       "   IDNO  BODYFAT  DENSITY  AGE  WEIGHT  HEIGHT  NECK  CHEST  ABDOMEN    HIP  \\\n",
       "0     1     12.6   1.0708   23  154.25   67.75  36.2   93.1     85.2   94.5   \n",
       "1     2      6.9   1.0853   22  173.25   72.25  38.5   93.6     83.0   98.7   \n",
       "2     3     24.6   1.0414   22  154.00   66.25  34.0   95.8     87.9   99.2   \n",
       "3     4     10.9   1.0751   26  184.75   72.25  37.4  101.8     86.4  101.2   \n",
       "4     5     27.8   1.0340   24  184.25   71.25  34.4   97.3    100.0  101.9   \n",
       "\n",
       "   THIGH  KNEE  ANKLE  BICEPS  FOREARM  WRIST  \n",
       "0   59.0  37.3   21.9    32.0     27.4   17.1  \n",
       "1   58.7  37.3   23.4    30.5     28.9   18.2  \n",
       "2   59.6  38.9   24.0    28.8     25.2   16.6  \n",
       "3   60.1  37.3   22.8    32.4     29.4   18.2  \n",
       "4   63.2  42.2   24.0    32.2     27.7   17.7  "
      ]
     },
     "execution_count": 5,
     "metadata": {},
     "output_type": "execute_result"
    }
   ],
   "source": [
    "# Load data\n",
    "bfp = pd.read_csv('BodyFatPercentage.csv')\n",
    "bfp.head()"
   ]
  },
  {
   "cell_type": "markdown",
   "id": "8299a462-44fa-49b7-b074-969188df1185",
   "metadata": {},
   "source": [
    "### Let's Take A Look Into Population Data"
   ]
  },
  {
   "cell_type": "code",
   "execution_count": 6,
   "id": "3dd93cac-c400-422e-a96d-6279e7605f71",
   "metadata": {},
   "outputs": [
    {
     "name": "stdout",
     "output_type": "stream",
     "text": [
      "Population Size: 252\n"
     ]
    }
   ],
   "source": [
    "bf_mean = bfp['BODYFAT'].mean()\n",
    "pop_n = len(bfp)\n",
    "print(f'Population Size: {pop_n}')"
   ]
  },
  {
   "cell_type": "code",
   "execution_count": 7,
   "id": "832e06c0",
   "metadata": {},
   "outputs": [
    {
     "data": {
      "image/png": "[encoded data removed]",
      "text/plain": [
       "<Figure size 864x432 with 1 Axes>"
      ]
     },
     "metadata": {
      "needs_background": "light"
     },
     "output_type": "display_data"
    }
   ],
   "source": [
    "# Population Histogram\n",
    "fig, ax = plt.subplots(figsize=(12, 6))\n",
    "\n",
    "n, bins, patches = ax.hist(bfp['BODYFAT'], bins=25, color='#1B6488')\n",
    "for rect in patches:\n",
    "    rect.set_linewidth(.5)\n",
    "    rect.set_edgecolor('grey')\n",
    "\n",
    "ax.set_title('Histogram of BODYFAT Population Distribution')\n",
    "\n",
    "ax.spines['top'].set_visible(False)\n",
    "ax.spines['right'].set_visible(False)\n",
    "ax.spines['left'].set_linewidth(.5)\n",
    "ax.spines['bottom'].set_linewidth(.5)\n",
    "\n",
    "ax.vlines(x=bf_mean, ymin=0, ymax=25, color='red')\n",
    "ax.annotate(f'{bf_mean:.2f}% (Mean)', (bf_mean+0.2, 25), color='r')\n",
    "\n",
    "plt.show()"
   ]
  },
  {
   "cell_type": "markdown",
   "id": "a52c99ff",
   "metadata": {},
   "source": [
    "### Now, lets say that we surveyed 10 peoeple and we had to draw conclusions about the population distribution\n"
   ]
  },
  {
   "cell_type": "code",
   "execution_count": 8,
   "id": "1ad313ff",
   "metadata": {},
   "outputs": [
    {
     "data": {
      "text/plain": [
       "244    28.1\n",
       "154    20.5\n",
       "108    17.2\n",
       "37     27.5\n",
       "1       6.9\n",
       "237    26.4\n",
       "65     28.9\n",
       "69     13.2\n",
       "165    19.0\n",
       "48     13.4\n",
       "Name: BODYFAT, dtype: float64"
      ]
     },
     "execution_count": 8,
     "metadata": {},
     "output_type": "execute_result"
    }
   ],
   "source": [
    "# Randomly Pull 10 Rows Using Random.Sample\n",
    "n = 10\n",
    "sample_bfp = bfp.loc[random.sample(range(252), 10)]\n",
    "sample_bfp['BODYFAT']"
   ]
  },
  {
   "cell_type": "markdown",
   "id": "f15bf47e",
   "metadata": {},
   "source": [
    "### Traditional Statistical CI"
   ]
  },
  {
   "cell_type": "code",
   "execution_count": 19,
   "id": "ebdc7994",
   "metadata": {},
   "outputs": [
    {
     "name": "stdout",
     "output_type": "stream",
     "text": [
      "Population Mean:    18.94\n",
      "Sample Mean:        20.11\n",
      "Traditional 95% CI: ['14.71', '25.51']\n",
      "Interval Range:     10.80\n"
     ]
    }
   ],
   "source": [
    "s = np.std(sample_bfp['BODYFAT'], ddof=1)\n",
    "sample_mean = sample_bfp['BODYFAT'].mean()\n",
    "t_stat = t.ppf(1-0.05/2, n-1)\n",
    "standard_error = (s / np.sqrt(n))\n",
    "\n",
    "stat_ci = [sample_mean - t_stat * standard_error, sample_mean\n",
    "           + t_stat * standard_error]\n",
    "\n",
    "print(f'Population Mean:    {bf_mean:.2f}')\n",
    "print(f'Sample Mean:        {sample_mean:.2f}')\n",
    "print(f'Traditional 95% CI: {[f\"{e:.2f}\" for e in stat_ci]}')\n",
    "print(f'Interval Range:     {stat_ci[1] - stat_ci[0]:.2f}')"
   ]
  },
  {
   "cell_type": "code",
   "execution_count": null,
   "id": "69cf0a73",
   "metadata": {},
   "outputs": [],
   "source": []
  },
  {
   "cell_type": "markdown",
   "id": "f847d24d",
   "metadata": {},
   "source": [
    "### Bootstrapping Statistical CI\n",
    "\n",
    "1. Resample the sample with replacement\n",
    "2. Calculate and collect the resample mean\n",
    "3. Repreat Steps 1 - 3\n",
    "4. Build Histogram\n",
    "5. Build CI using the Histogram"
   ]
  },
  {
   "cell_type": "code",
   "execution_count": 20,
   "id": "b985a730",
   "metadata": {},
   "outputs": [],
   "source": [
    "resample_means = []\n",
    "\n",
    "for i in range(10_000):  # Step 3\n",
    "    inds = np.random.randint(0, n-1, n-1)  # Step 1\n",
    "    mean = sample_bfp['BODYFAT'].iloc[inds].mean()  # Step 2\n",
    "    resample_means.append(mean)\n",
    "\n",
    "\n",
    "boot_mean = np.mean(resample_means)\n",
    "boot_ci = [np.quantile(resample_means, 0.025),\n",
    "           np.quantile(resample_means, 0.975)]"
   ]
  },
  {
   "cell_type": "code",
   "execution_count": 21,
   "id": "0aadc333",
   "metadata": {},
   "outputs": [
    {
     "data": {
      "image/png": "[encoded data removed]",
      "text/plain": [
       "<Figure size 720x576 with 1 Axes>"
      ]
     },
     "metadata": {
      "needs_background": "light"
     },
     "output_type": "display_data"
    }
   ],
   "source": [
    "fig, ax = plt.subplots(figsize=(10, 8))\n",
    "\n",
    "ax.hist(resample_means, alpha=0.5, edgecolor='grey')\n",
    "ax.vlines(x=boot_mean, ymin=0, ymax=3000, color='red')\n",
    "ax.vlines(x=boot_ci[0], ymin=0, ymax=1000, color='red')\n",
    "ax.vlines(x=boot_ci[1], ymin=0, ymax=1000, color='red')\n",
    "ax.vlines(x=boot_mean, ymin=0, ymax=3000, color='red')\n",
    "\n",
    "ax.annotate(f'{boot_mean:.2f} (Mean)', (boot_mean-0.25, 3050))\n",
    "ax.annotate(f'{boot_ci[0]:.2f} (2.5th)', (boot_ci[0]-0.25, 1050))\n",
    "ax.annotate(f'{boot_ci[1]:.2f} (97.5th)', (boot_ci[1]-0.25, 1050))\n",
    "\n",
    "ax.spines['top'].set_visible(False)\n",
    "ax.spines['right'].set_visible(False)\n",
    "\n",
    "ax.set_title('Distribution of bootstrapped sample means', size=16)\n",
    "\n",
    "plt.show()"
   ]
  },
  {
   "cell_type": "code",
   "execution_count": 30,
   "id": "ad1f1b05",
   "metadata": {},
   "outputs": [
    {
     "name": "stdout",
     "output_type": "stream",
     "text": [
      "Statistical 95% CI:        ['14.71', '25.51']\n",
      "Tradtional Interval Range: 10.80\n",
      "Bootstrap 95% CI:          ['16.06', '25.34']\n",
      "Bootstrap Interval Range:  9.29\n"
     ]
    }
   ],
   "source": [
    "print(f'Statistical 95% CI:        {[f\"{e:.2f}\" for e in stat_ci]}')\n",
    "print(f'Tradtional Interval Range: {stat_ci[1]-stat_ci[0]:.2f}')\n",
    "\n",
    "print(f'Bootstrap 95% CI:          {[f\"{e:.2f}\" for e in boot_ci]}')\n",
    "print(f'Bootstrap Interval Range:  {boot_ci[1]-boot_ci[0]:.2f}')"
   ]
  },
  {
   "cell_type": "code",
   "execution_count": null,
   "id": "45381627",
   "metadata": {},
   "outputs": [],
   "source": []
  },
  {
   "cell_type": "code",
   "execution_count": null,
   "id": "f3f7216f",
   "metadata": {},
   "outputs": [],
   "source": []
  },
  {
   "cell_type": "code",
   "execution_count": null,
   "id": "77b078a7",
   "metadata": {},
   "outputs": [],
   "source": []
  },
  {
   "cell_type": "code",
   "execution_count": null,
   "id": "b7083d5e",
   "metadata": {},
   "outputs": [],
   "source": []
  },
  {
   "cell_type": "markdown",
   "id": "24b92f52",
   "metadata": {},
   "source": [
    "#### Example with Rsquared, a statistic that might not have a well known statistical calculation "
   ]
  },
  {
   "cell_type": "code",
   "execution_count": null,
   "id": "7cc79dcb",
   "metadata": {},
   "outputs": [],
   "source": []
  },
  {
   "cell_type": "code",
   "execution_count": 170,
   "id": "f3622ceb",
   "metadata": {},
   "outputs": [
    {
     "name": "stdout",
     "output_type": "stream",
     "text": [
      "Population Rsquared_adj: 0.71\n",
      "Sample Rsquared_adj: 0.65\n"
     ]
    }
   ],
   "source": [
    "# Bootstrapping for Rsquared\n",
    "import statsmodels.formula.api as smf\n",
    "model = smf.ols('BODYFAT ~ ABDOMEN + WRIST + ANKLE + AGE', data = bfp).fit()\n",
    "\n",
    "# Model for a sample of the data\n",
    "samp_n = 30\n",
    "sample_bfp = bfp.loc[random.sample(range(pop_n), samp_n)]\n",
    "sample_model = smf.ols('BODYFAT ~ ABDOMEN + WRIST + ANKLE + AGE', data = sample_bfp).fit()\n",
    "\n",
    "print(f'Population Rsquared_adj: {model.rsquared_adj:.2f}\\nSample Rsquared_adj: {sample_model.rsquared_adj:.2f}')"
   ]
  },
  {
   "cell_type": "code",
   "execution_count": 171,
   "id": "8a147365",
   "metadata": {},
   "outputs": [
    {
     "name": "stdout",
     "output_type": "stream",
     "text": [
      "Bootstrap Confidence Interval (Adjusted Rsquared): ['0.46', '0.79']\n"
     ]
    }
   ],
   "source": [
    "adj_rsquareds = []\n",
    "\n",
    "for i in range(1_000):\n",
    "    inds = np.random.randint(0, samp_n-1, samp_n-1)\n",
    "    model = smf.ols('BODYFAT ~ ABDOMEN + WRIST + ANKLE + AGE', data = sample_bfp.iloc[inds]).fit()\n",
    "    rsq_adj = model.rsquared_adj\n",
    "    adj_rsquareds.append(rsq_adj)\n",
    "    \n",
    "boot_rsq_adj_mean = np.mean(adj_rsquareds)\n",
    "boot_rsq_adj_ci = [np.quantile(adj_rsquareds, 0.025), np.quantile(adj_rsquareds, 0.975)]\n",
    "print(f'''Bootstrap Confidence Interval (Adjusted Rsquared): {[f'{e:.2f}' for e in boot_rsq_adj_ci]}''')"
   ]
  },
  {
   "cell_type": "code",
   "execution_count": 172,
   "id": "25ee0f3f",
   "metadata": {},
   "outputs": [
    {
     "data": {
      "image/png": "[encoded data removed]",
      "text/plain": [
       "<Figure size 720x576 with 1 Axes>"
      ]
     },
     "metadata": {
      "needs_background": "light"
     },
     "output_type": "display_data"
    }
   ],
   "source": [
    "fig, ax = plt.subplots(figsize = (10,8))\n",
    "\n",
    "ax.hist(adj_rsquareds, alpha = .5, edgecolor = 'grey')\n",
    "ax.vlines(x = boot_rsq_adj_mean, ymin = 0, ymax = 280, color = 'red')\n",
    "ax.vlines(x = boot_rsq_adj_ci[0], ymin = 0, ymax = 100, color = 'red')\n",
    "ax.vlines(x = boot_rsq_adj_ci[1], ymin = 0, ymax = 100, color = 'red')\n",
    "ax.vlines(x = boot_rsq_adj_mean, ymin = 0, ymax = 280, color = 'red')\n",
    "\n",
    "ax.annotate(f'{boot_rsq_adj_mean:.2f} (Mean)', (boot_rsq_adj_mean-0.007, 285))\n",
    "ax.annotate(f'{boot_rsq_adj_ci[0]:.2f} (2.5th)', (boot_rsq_adj_ci[0]-0.007, 105))\n",
    "ax.annotate(f'{boot_rsq_adj_ci[1]:.2f} (97.5th)', (boot_rsq_adj_ci[1]-0.007, 105))\n",
    "\n",
    "ax.spines['top'].set_visible(False)\n",
    "ax.spines['right'].set_visible(False)\n",
    "\n",
    "ax.set_title('Distribution of Bootstrapped Sample Adj Rsquareds', size = 16)\n",
    "\n",
    "plt.show()"
   ]
  }
 ],
 "metadata": {
  "kernelspec": {
   "display_name": "Python 3",
   "language": "python",
   "name": "python3"
  },
  "language_info": {
   "codemirror_mode": {
    "name": "ipython",
    "version": 3
   },
   "file_extension": ".py",
   "mimetype": "text/x-python",
   "name": "python",
   "nbconvert_exporter": "python",
   "pygments_lexer": "ipython3",
   "version": "3.8.8"
  }
 },
 "nbformat": 4,
 "nbformat_minor": 5
}

{
 "cells": [
  {
   "cell_type": "markdown",
   "id": "2751dab5-0689-470c-80b9-5b88eb575089",
   "metadata": {},
   "source": [
    "# Bootstrapping\n",
    "\n",
    "Lucas De Oliveira, Kooha Kwon, Melvin Vellera"
   ]
  },
  {
   "cell_type": "code",
   "execution_count": 85,
   "id": "27b9cdc7-a86a-4ac7-be9e-1e7b9510aa72",
   "metadata": {},
   "outputs": [],
   "source": [
    "import numpy as np\n",
    "import pandas as pd\n",
    "from collections import Counter\n",
    "import matplotlib.pyplot as plt\n",
    "from scipy.stats import t\n",
    "import random\n",
    "import matplotlib.pyplot as plt"
   ]
  },
  {
   "cell_type": "markdown",
   "id": "8ba62b52-b1f3-440c-960b-5e426324055c",
   "metadata": {},
   "source": [
    "## Quick Recap\n",
    "\n",
    "Bootstrapping is a technique of **iterative resampling with replacement** to make inferences about the general population without conducting more experiments.\n",
    "\n",
    "Say we ran an experiments with the following experimental results:"
   ]
  },
  {
   "cell_type": "code",
   "execution_count": 86,
   "id": "a989e6a6-c7b5-4980-83a8-077b58b42b74",
   "metadata": {},
   "outputs": [
    {
     "data": {
      "image/png": "[encoded data removed]",
      "text/plain": [
       "<Figure size 720x72 with 1 Axes>"
      ]
     },
     "metadata": {
      "needs_background": "light"
     },
     "output_type": "display_data"
    }
   ],
   "source": [
    "# Experimental sample\n",
    "exp_sample = [-3, -2.2, -2, 1, 1.5, 2, 3, 4]\n",
    "\n",
    "# Plot\n",
    "fig, ax = plt.subplots(figsize = (10, 1))\n",
    "ax.hlines(y = 0.0, xmax = 4.0, xmin = -4.0, color = 'grey')\n",
    "ax.scatter(exp_sample, [0]*len(exp_sample), s = 100)\n",
    "\n",
    "ax.set_yticks([])\n",
    "\n",
    "ax.spines['top'].set_visible(False)\n",
    "ax.spines['bottom'].set_visible(False)\n",
    "ax.spines['left'].set_visible(False)\n",
    "ax.spines['right'].set_visible(False)\n",
    "\n",
    "plt.show()"
   ]
  },
  {
   "cell_type": "markdown",
   "id": "c1214bf2-461a-484a-b8b9-d6a065f12275",
   "metadata": {},
   "source": [
    "Let's see what bootstrapped samples look like (re-run code cell to see variability of samples)..."
   ]
  },
  {
   "cell_type": "code",
   "execution_count": 87,
   "id": "92fe0a31-39ed-4a53-bfac-567a7b8370d9",
   "metadata": {},
   "outputs": [
    {
     "data": {
      "image/png": "[encoded data removed]",
      "text/plain": [
       "<Figure size 720x360 with 1 Axes>"
      ]
     },
     "metadata": {
      "needs_background": "light"
     },
     "output_type": "display_data"
    }
   ],
   "source": [
    "# Get two bootstrapped samples\n",
    "inds = np.random.randint(0,8,8)\n",
    "strap = [exp_sample[j] for j in inds]\n",
    "val_count = Counter(strap)\n",
    "\n",
    "bootstrap = []\n",
    "counts = []\n",
    "for val, count in val_count.items():\n",
    "    k = 1\n",
    "    while k <= count:\n",
    "        bootstrap.append(val)\n",
    "        counts.append(k)\n",
    "        k += 1       \n",
    "\n",
    "\n",
    "# Plot\n",
    "fig, ax = plt.subplots(figsize = (10, 5))\n",
    "\n",
    "ax.hlines(y = 1.0, xmax = 4.0, xmin = -4.0, color = 'grey')\n",
    "ax.scatter(bootstrap, counts, s = 100, color = 'red', alpha = .5)\n",
    "\n",
    "ax.set_yticks([])\n",
    "\n",
    "ax.spines['top'].set_visible(False)\n",
    "ax.spines['bottom'].set_visible(False)\n",
    "ax.spines['left'].set_visible(False)\n",
    "ax.spines['right'].set_visible(False)\n",
    "\n",
    "ax.vlines(x = np.mean(bootstrap), ymin = 0.0, ymax = 2.0, color = 'red')\n",
    "\n",
    "plt.tight_layout()\n",
    "plt.show()"
   ]
  },
  {
   "cell_type": "markdown",
   "id": "3b6e409b-8d78-4b8f-9873-9216ac397747",
   "metadata": {},
   "source": [
    "Finally, we can analyze the summary statistic(s) for our bootstrapped samples:"
   ]
  },
  {
   "cell_type": "code",
   "execution_count": 88,
   "id": "ec6bc514-8865-483b-a45b-d0f44ef489cd",
   "metadata": {},
   "outputs": [
    {
     "data": {
      "image/png": "[encoded data removed]",
      "text/plain": [
       "<Figure size 720x576 with 1 Axes>"
      ]
     },
     "metadata": {
      "needs_background": "light"
     },
     "output_type": "display_data"
    }
   ],
   "source": [
    "# Bootstrap 10,000 samples\n",
    "means = []\n",
    "\n",
    "for i in range(10_000):\n",
    "    inds = np.random.randint(0,7,8)\n",
    "    strap = [exp_sample[j] for j in inds]\n",
    "    means.append(np.mean(strap))\n",
    "\n",
    "# Plot\n",
    "fig, ax = plt.subplots(figsize = (10,8))\n",
    "\n",
    "ax.hist(means, alpha = .5, edgecolor = 'grey')\n",
    "ax.vlines(x = np.mean(means), ymin = 0, ymax = 2500, color = 'red')\n",
    "\n",
    "ax.spines['top'].set_visible(False)\n",
    "ax.spines['right'].set_visible(False)\n",
    "\n",
    "ax.set_title('Distribution of bootstrapped sample means', size = 16)\n",
    "\n",
    "plt.show()"
   ]
  },
  {
   "cell_type": "markdown",
   "id": "af152acf-ca30-4648-b3de-3e1414548845",
   "metadata": {},
   "source": [
    "## Example with Real Data\n",
    "\n",
    "**Description of example/data here** -- for now I have included BodyFatPercentage.csv"
   ]
  },
  {
   "cell_type": "markdown",
   "id": "e8251ab0-1ba5-4e8c-9dcd-5c6e6649200d",
   "metadata": {},
   "source": [
    "1. Take sample size 10 from one of the columns (we'll call the population)\n",
    "2. Use traditional t-dist for confidence interval (too wide)\n",
    "3. Bootstrap sample size 10 10,000x\n",
    "4. Compare to population"
   ]
  },
  {
   "cell_type": "code",
   "execution_count": 89,
   "id": "ad74a6c2-a6c5-4fb9-9fb2-e0c78b7bd8e7",
   "metadata": {},
   "outputs": [
    {
     "data": {
      "text/html": [
       "<div>\n",
       "<style scoped>\n",
       "    .dataframe tbody tr th:only-of-type {\n",
       "        vertical-align: middle;\n",
       "    }\n",
       "\n",
       "    .dataframe tbody tr th {\n",
       "        vertical-align: top;\n",
       "    }\n",
       "\n",
       "    .dataframe thead th {\n",
       "        text-align: right;\n",
       "    }\n",
       "</style>\n",
       "<table border=\"1\" class=\"dataframe\">\n",
       "  <thead>\n",
       "    <tr style=\"text-align: right;\">\n",
       "      <th></th>\n",
       "      <th>IDNO</th>\n",
       "      <th>BODYFAT</th>\n",
       "      <th>DENSITY</th>\n",
       "      <th>AGE</th>\n",
       "      <th>WEIGHT</th>\n",
       "      <th>HEIGHT</th>\n",
       "      <th>NECK</th>\n",
       "      <th>CHEST</th>\n",
       "      <th>ABDOMEN</th>\n",
       "      <th>HIP</th>\n",
       "      <th>THIGH</th>\n",
       "      <th>KNEE</th>\n",
       "      <th>ANKLE</th>\n",
       "      <th>BICEPS</th>\n",
       "      <th>FOREARM</th>\n",
       "      <th>WRIST</th>\n",
       "    </tr>\n",
       "  </thead>\n",
       "  <tbody>\n",
       "    <tr>\n",
       "      <th>0</th>\n",
       "      <td>1</td>\n",
       "      <td>12.6</td>\n",
       "      <td>1.0708</td>\n",
       "      <td>23</td>\n",
       "      <td>154.25</td>\n",
       "      <td>67.75</td>\n",
       "      <td>36.2</td>\n",
       "      <td>93.1</td>\n",
       "      <td>85.2</td>\n",
       "      <td>94.5</td>\n",
       "      <td>59.0</td>\n",
       "      <td>37.3</td>\n",
       "      <td>21.9</td>\n",
       "      <td>32.0</td>\n",
       "      <td>27.4</td>\n",
       "      <td>17.1</td>\n",
       "    </tr>\n",
       "    <tr>\n",
       "      <th>1</th>\n",
       "      <td>2</td>\n",
       "      <td>6.9</td>\n",
       "      <td>1.0853</td>\n",
       "      <td>22</td>\n",
       "      <td>173.25</td>\n",
       "      <td>72.25</td>\n",
       "      <td>38.5</td>\n",
       "      <td>93.6</td>\n",
       "      <td>83.0</td>\n",
       "      <td>98.7</td>\n",
       "      <td>58.7</td>\n",
       "      <td>37.3</td>\n",
       "      <td>23.4</td>\n",
       "      <td>30.5</td>\n",
       "      <td>28.9</td>\n",
       "      <td>18.2</td>\n",
       "    </tr>\n",
       "    <tr>\n",
       "      <th>2</th>\n",
       "      <td>3</td>\n",
       "      <td>24.6</td>\n",
       "      <td>1.0414</td>\n",
       "      <td>22</td>\n",
       "      <td>154.00</td>\n",
       "      <td>66.25</td>\n",
       "      <td>34.0</td>\n",
       "      <td>95.8</td>\n",
       "      <td>87.9</td>\n",
       "      <td>99.2</td>\n",
       "      <td>59.6</td>\n",
       "      <td>38.9</td>\n",
       "      <td>24.0</td>\n",
       "      <td>28.8</td>\n",
       "      <td>25.2</td>\n",
       "      <td>16.6</td>\n",
       "    </tr>\n",
       "    <tr>\n",
       "      <th>3</th>\n",
       "      <td>4</td>\n",
       "      <td>10.9</td>\n",
       "      <td>1.0751</td>\n",
       "      <td>26</td>\n",
       "      <td>184.75</td>\n",
       "      <td>72.25</td>\n",
       "      <td>37.4</td>\n",
       "      <td>101.8</td>\n",
       "      <td>86.4</td>\n",
       "      <td>101.2</td>\n",
       "      <td>60.1</td>\n",
       "      <td>37.3</td>\n",
       "      <td>22.8</td>\n",
       "      <td>32.4</td>\n",
       "      <td>29.4</td>\n",
       "      <td>18.2</td>\n",
       "    </tr>\n",
       "    <tr>\n",
       "      <th>4</th>\n",
       "      <td>5</td>\n",
       "      <td>27.8</td>\n",
       "      <td>1.0340</td>\n",
       "      <td>24</td>\n",
       "      <td>184.25</td>\n",
       "      <td>71.25</td>\n",
       "      <td>34.4</td>\n",
       "      <td>97.3</td>\n",
       "      <td>100.0</td>\n",
       "      <td>101.9</td>\n",
       "      <td>63.2</td>\n",
       "      <td>42.2</td>\n",
       "      <td>24.0</td>\n",
       "      <td>32.2</td>\n",
       "      <td>27.7</td>\n",
       "      <td>17.7</td>\n",
       "    </tr>\n",
       "  </tbody>\n",
       "</table>\n",
       "</div>"
      ],
      "text/plain": [
       "   IDNO  BODYFAT  DENSITY  AGE  WEIGHT  HEIGHT  NECK  CHEST  ABDOMEN    HIP  \\\n",
       "0     1     12.6   1.0708   23  154.25   67.75  36.2   93.1     85.2   94.5   \n",
       "1     2      6.9   1.0853   22  173.25   72.25  38.5   93.6     83.0   98.7   \n",
       "2     3     24.6   1.0414   22  154.00   66.25  34.0   95.8     87.9   99.2   \n",
       "3     4     10.9   1.0751   26  184.75   72.25  37.4  101.8     86.4  101.2   \n",
       "4     5     27.8   1.0340   24  184.25   71.25  34.4   97.3    100.0  101.9   \n",
       "\n",
       "   THIGH  KNEE  ANKLE  BICEPS  FOREARM  WRIST  \n",
       "0   59.0  37.3   21.9    32.0     27.4   17.1  \n",
       "1   58.7  37.3   23.4    30.5     28.9   18.2  \n",
       "2   59.6  38.9   24.0    28.8     25.2   16.6  \n",
       "3   60.1  37.3   22.8    32.4     29.4   18.2  \n",
       "4   63.2  42.2   24.0    32.2     27.7   17.7  "
      ]
     },
     "execution_count": 89,
     "metadata": {},
     "output_type": "execute_result"
    }
   ],
   "source": [
    "# Load data\n",
    "bfp = pd.read_csv('BodyFatPercentage.csv')\n",
    "bfp.head()"
   ]
  },
  {
   "cell_type": "markdown",
   "id": "8299a462-44fa-49b7-b074-969188df1185",
   "metadata": {},
   "source": [
    "### Using sklearn\n",
    "\n",
    "Instead of bootstrapping manually, we can use scikit-learn's resample() function..."
   ]
  },
  {
   "cell_type": "code",
   "execution_count": 90,
   "id": "3dd93cac-c400-422e-a96d-6279e7605f71",
   "metadata": {},
   "outputs": [
    {
     "data": {
      "text/plain": [
       "[6, 10, 6, 1, 1, 2, 9, 8, 3]"
      ]
     },
     "execution_count": 90,
     "metadata": {},
     "output_type": "execute_result"
    }
   ],
   "source": [
    "from sklearn.utils import resample\n",
    "a = [1, 2, 3, 4, 5, 6, 8, 9, 10]\n",
    "b = resample(a, replace = True, n_samples = len(a), random_state = 1)\n",
    "b"
   ]
  },
  {
   "cell_type": "markdown",
   "id": "43170460-891c-4ffa-a52b-8355b65b7213",
   "metadata": {},
   "source": [
    "### Look at distribution of sample (population)\n",
    "\n",
    "**We can consider using an entire column to represent the population and select a random sample from the column to play with. Then we can compare to \"population\" to see how distributions differ.**\n",
    "\n",
    "### Bootstrap and calculate statistic\n",
    "\n",
    "###"
   ]
  },
  {
   "cell_type": "code",
   "execution_count": 91,
   "id": "943bc191-fd64-42c7-9b03-dee4a0c653e9",
   "metadata": {},
   "outputs": [
    {
     "name": "stdout",
     "output_type": "stream",
     "text": [
      "252\n"
     ]
    }
   ],
   "source": [
    "bf_mean = bfp['BODYFAT'].mean()\n",
    "pop_n = len(bfp)\n",
    "print(pop_n)"
   ]
  },
  {
   "cell_type": "code",
   "execution_count": 92,
   "id": "1ad313ff",
   "metadata": {},
   "outputs": [
    {
     "name": "stdout",
     "output_type": "stream",
     "text": [
      "Average Body Fat: 18.94\n",
      "Number of Observations: 252\n"
     ]
    }
   ],
   "source": [
    "print(f'''Average Body Fat: {bf_mean:.2f}\\nNumber of Observations: {pop_n}''')"
   ]
  },
  {
   "cell_type": "code",
   "execution_count": 93,
   "id": "1e5da8bd",
   "metadata": {},
   "outputs": [
    {
     "data": {
      "text/html": [
       "<div>\n",
       "<style scoped>\n",
       "    .dataframe tbody tr th:only-of-type {\n",
       "        vertical-align: middle;\n",
       "    }\n",
       "\n",
       "    .dataframe tbody tr th {\n",
       "        vertical-align: top;\n",
       "    }\n",
       "\n",
       "    .dataframe thead th {\n",
       "        text-align: right;\n",
       "    }\n",
       "</style>\n",
       "<table border=\"1\" class=\"dataframe\">\n",
       "  <thead>\n",
       "    <tr style=\"text-align: right;\">\n",
       "      <th></th>\n",
       "      <th>IDNO</th>\n",
       "      <th>BODYFAT</th>\n",
       "      <th>DENSITY</th>\n",
       "      <th>AGE</th>\n",
       "      <th>WEIGHT</th>\n",
       "      <th>HEIGHT</th>\n",
       "      <th>NECK</th>\n",
       "      <th>CHEST</th>\n",
       "      <th>ABDOMEN</th>\n",
       "      <th>HIP</th>\n",
       "      <th>THIGH</th>\n",
       "      <th>KNEE</th>\n",
       "      <th>ANKLE</th>\n",
       "      <th>BICEPS</th>\n",
       "      <th>FOREARM</th>\n",
       "      <th>WRIST</th>\n",
       "    </tr>\n",
       "  </thead>\n",
       "  <tbody>\n",
       "    <tr>\n",
       "      <th>19</th>\n",
       "      <td>20</td>\n",
       "      <td>16.5</td>\n",
       "      <td>1.0610</td>\n",
       "      <td>33</td>\n",
       "      <td>211.75</td>\n",
       "      <td>73.50</td>\n",
       "      <td>40.0</td>\n",
       "      <td>106.2</td>\n",
       "      <td>100.5</td>\n",
       "      <td>109.0</td>\n",
       "      <td>65.8</td>\n",
       "      <td>40.6</td>\n",
       "      <td>24.0</td>\n",
       "      <td>37.1</td>\n",
       "      <td>30.1</td>\n",
       "      <td>18.2</td>\n",
       "    </tr>\n",
       "    <tr>\n",
       "      <th>51</th>\n",
       "      <td>52</td>\n",
       "      <td>7.4</td>\n",
       "      <td>1.0840</td>\n",
       "      <td>40</td>\n",
       "      <td>139.25</td>\n",
       "      <td>69.00</td>\n",
       "      <td>34.3</td>\n",
       "      <td>89.2</td>\n",
       "      <td>77.9</td>\n",
       "      <td>91.0</td>\n",
       "      <td>51.4</td>\n",
       "      <td>34.9</td>\n",
       "      <td>21.0</td>\n",
       "      <td>26.7</td>\n",
       "      <td>26.1</td>\n",
       "      <td>17.2</td>\n",
       "    </tr>\n",
       "    <tr>\n",
       "      <th>174</th>\n",
       "      <td>175</td>\n",
       "      <td>24.6</td>\n",
       "      <td>1.0414</td>\n",
       "      <td>36</td>\n",
       "      <td>226.75</td>\n",
       "      <td>71.75</td>\n",
       "      <td>41.5</td>\n",
       "      <td>115.3</td>\n",
       "      <td>108.8</td>\n",
       "      <td>114.4</td>\n",
       "      <td>69.2</td>\n",
       "      <td>42.4</td>\n",
       "      <td>24.0</td>\n",
       "      <td>35.4</td>\n",
       "      <td>21.0</td>\n",
       "      <td>20.1</td>\n",
       "    </tr>\n",
       "    <tr>\n",
       "      <th>195</th>\n",
       "      <td>196</td>\n",
       "      <td>24.8</td>\n",
       "      <td>1.0411</td>\n",
       "      <td>42</td>\n",
       "      <td>180.00</td>\n",
       "      <td>68.25</td>\n",
       "      <td>38.5</td>\n",
       "      <td>101.6</td>\n",
       "      <td>96.6</td>\n",
       "      <td>100.6</td>\n",
       "      <td>61.1</td>\n",
       "      <td>38.4</td>\n",
       "      <td>24.1</td>\n",
       "      <td>32.9</td>\n",
       "      <td>29.8</td>\n",
       "      <td>18.8</td>\n",
       "    </tr>\n",
       "    <tr>\n",
       "      <th>187</th>\n",
       "      <td>188</td>\n",
       "      <td>20.1</td>\n",
       "      <td>1.0524</td>\n",
       "      <td>41</td>\n",
       "      <td>210.50</td>\n",
       "      <td>72.00</td>\n",
       "      <td>38.5</td>\n",
       "      <td>107.4</td>\n",
       "      <td>98.9</td>\n",
       "      <td>104.1</td>\n",
       "      <td>63.5</td>\n",
       "      <td>39.8</td>\n",
       "      <td>23.5</td>\n",
       "      <td>36.4</td>\n",
       "      <td>30.4</td>\n",
       "      <td>19.1</td>\n",
       "    </tr>\n",
       "    <tr>\n",
       "      <th>93</th>\n",
       "      <td>94</td>\n",
       "      <td>24.2</td>\n",
       "      <td>1.0424</td>\n",
       "      <td>46</td>\n",
       "      <td>192.50</td>\n",
       "      <td>71.75</td>\n",
       "      <td>38.0</td>\n",
       "      <td>106.6</td>\n",
       "      <td>97.5</td>\n",
       "      <td>100.6</td>\n",
       "      <td>58.9</td>\n",
       "      <td>40.5</td>\n",
       "      <td>24.5</td>\n",
       "      <td>33.3</td>\n",
       "      <td>29.6</td>\n",
       "      <td>19.1</td>\n",
       "    </tr>\n",
       "    <tr>\n",
       "      <th>0</th>\n",
       "      <td>1</td>\n",
       "      <td>12.6</td>\n",
       "      <td>1.0708</td>\n",
       "      <td>23</td>\n",
       "      <td>154.25</td>\n",
       "      <td>67.75</td>\n",
       "      <td>36.2</td>\n",
       "      <td>93.1</td>\n",
       "      <td>85.2</td>\n",
       "      <td>94.5</td>\n",
       "      <td>59.0</td>\n",
       "      <td>37.3</td>\n",
       "      <td>21.9</td>\n",
       "      <td>32.0</td>\n",
       "      <td>27.4</td>\n",
       "      <td>17.1</td>\n",
       "    </tr>\n",
       "    <tr>\n",
       "      <th>242</th>\n",
       "      <td>243</td>\n",
       "      <td>29.3</td>\n",
       "      <td>1.0304</td>\n",
       "      <td>66</td>\n",
       "      <td>234.25</td>\n",
       "      <td>72.00</td>\n",
       "      <td>41.4</td>\n",
       "      <td>119.7</td>\n",
       "      <td>109.0</td>\n",
       "      <td>109.1</td>\n",
       "      <td>63.7</td>\n",
       "      <td>42.4</td>\n",
       "      <td>24.6</td>\n",
       "      <td>35.6</td>\n",
       "      <td>30.7</td>\n",
       "      <td>19.5</td>\n",
       "    </tr>\n",
       "    <tr>\n",
       "      <th>176</th>\n",
       "      <td>177</td>\n",
       "      <td>13.4</td>\n",
       "      <td>1.0689</td>\n",
       "      <td>37</td>\n",
       "      <td>151.00</td>\n",
       "      <td>67.00</td>\n",
       "      <td>35.3</td>\n",
       "      <td>92.6</td>\n",
       "      <td>83.2</td>\n",
       "      <td>96.4</td>\n",
       "      <td>60.0</td>\n",
       "      <td>38.1</td>\n",
       "      <td>22.0</td>\n",
       "      <td>31.5</td>\n",
       "      <td>26.6</td>\n",
       "      <td>16.7</td>\n",
       "    </tr>\n",
       "    <tr>\n",
       "      <th>219</th>\n",
       "      <td>220</td>\n",
       "      <td>15.1</td>\n",
       "      <td>1.0646</td>\n",
       "      <td>53</td>\n",
       "      <td>154.50</td>\n",
       "      <td>69.25</td>\n",
       "      <td>37.6</td>\n",
       "      <td>93.9</td>\n",
       "      <td>88.7</td>\n",
       "      <td>94.5</td>\n",
       "      <td>53.7</td>\n",
       "      <td>36.2</td>\n",
       "      <td>22.0</td>\n",
       "      <td>28.5</td>\n",
       "      <td>25.7</td>\n",
       "      <td>17.1</td>\n",
       "    </tr>\n",
       "    <tr>\n",
       "      <th>220</th>\n",
       "      <td>221</td>\n",
       "      <td>12.7</td>\n",
       "      <td>1.0706</td>\n",
       "      <td>54</td>\n",
       "      <td>153.25</td>\n",
       "      <td>70.50</td>\n",
       "      <td>38.5</td>\n",
       "      <td>99.0</td>\n",
       "      <td>91.8</td>\n",
       "      <td>96.2</td>\n",
       "      <td>57.7</td>\n",
       "      <td>38.1</td>\n",
       "      <td>23.9</td>\n",
       "      <td>31.4</td>\n",
       "      <td>29.9</td>\n",
       "      <td>18.9</td>\n",
       "    </tr>\n",
       "    <tr>\n",
       "      <th>226</th>\n",
       "      <td>227</td>\n",
       "      <td>14.9</td>\n",
       "      <td>1.0650</td>\n",
       "      <td>55</td>\n",
       "      <td>169.50</td>\n",
       "      <td>68.25</td>\n",
       "      <td>37.2</td>\n",
       "      <td>101.7</td>\n",
       "      <td>91.1</td>\n",
       "      <td>97.1</td>\n",
       "      <td>56.6</td>\n",
       "      <td>38.5</td>\n",
       "      <td>22.6</td>\n",
       "      <td>33.4</td>\n",
       "      <td>29.3</td>\n",
       "      <td>18.8</td>\n",
       "    </tr>\n",
       "    <tr>\n",
       "      <th>28</th>\n",
       "      <td>29</td>\n",
       "      <td>4.7</td>\n",
       "      <td>1.0910</td>\n",
       "      <td>27</td>\n",
       "      <td>133.25</td>\n",
       "      <td>64.75</td>\n",
       "      <td>36.4</td>\n",
       "      <td>93.5</td>\n",
       "      <td>73.9</td>\n",
       "      <td>88.5</td>\n",
       "      <td>50.1</td>\n",
       "      <td>34.5</td>\n",
       "      <td>21.3</td>\n",
       "      <td>30.5</td>\n",
       "      <td>27.9</td>\n",
       "      <td>17.2</td>\n",
       "    </tr>\n",
       "    <tr>\n",
       "      <th>89</th>\n",
       "      <td>90</td>\n",
       "      <td>14.3</td>\n",
       "      <td>1.0666</td>\n",
       "      <td>48</td>\n",
       "      <td>176.00</td>\n",
       "      <td>73.00</td>\n",
       "      <td>36.7</td>\n",
       "      <td>96.7</td>\n",
       "      <td>86.5</td>\n",
       "      <td>98.3</td>\n",
       "      <td>60.4</td>\n",
       "      <td>39.9</td>\n",
       "      <td>24.4</td>\n",
       "      <td>28.8</td>\n",
       "      <td>29.6</td>\n",
       "      <td>18.7</td>\n",
       "    </tr>\n",
       "    <tr>\n",
       "      <th>160</th>\n",
       "      <td>161</td>\n",
       "      <td>9.9</td>\n",
       "      <td>1.0775</td>\n",
       "      <td>31</td>\n",
       "      <td>151.25</td>\n",
       "      <td>72.25</td>\n",
       "      <td>35.0</td>\n",
       "      <td>94.0</td>\n",
       "      <td>81.2</td>\n",
       "      <td>91.5</td>\n",
       "      <td>52.5</td>\n",
       "      <td>36.6</td>\n",
       "      <td>21.0</td>\n",
       "      <td>27.0</td>\n",
       "      <td>26.3</td>\n",
       "      <td>16.5</td>\n",
       "    </tr>\n",
       "  </tbody>\n",
       "</table>\n",
       "</div>"
      ],
      "text/plain": [
       "     IDNO  BODYFAT  DENSITY  AGE  WEIGHT  HEIGHT  NECK  CHEST  ABDOMEN    HIP  \\\n",
       "19     20     16.5   1.0610   33  211.75   73.50  40.0  106.2    100.5  109.0   \n",
       "51     52      7.4   1.0840   40  139.25   69.00  34.3   89.2     77.9   91.0   \n",
       "174   175     24.6   1.0414   36  226.75   71.75  41.5  115.3    108.8  114.4   \n",
       "195   196     24.8   1.0411   42  180.00   68.25  38.5  101.6     96.6  100.6   \n",
       "187   188     20.1   1.0524   41  210.50   72.00  38.5  107.4     98.9  104.1   \n",
       "93     94     24.2   1.0424   46  192.50   71.75  38.0  106.6     97.5  100.6   \n",
       "0       1     12.6   1.0708   23  154.25   67.75  36.2   93.1     85.2   94.5   \n",
       "242   243     29.3   1.0304   66  234.25   72.00  41.4  119.7    109.0  109.1   \n",
       "176   177     13.4   1.0689   37  151.00   67.00  35.3   92.6     83.2   96.4   \n",
       "219   220     15.1   1.0646   53  154.50   69.25  37.6   93.9     88.7   94.5   \n",
       "220   221     12.7   1.0706   54  153.25   70.50  38.5   99.0     91.8   96.2   \n",
       "226   227     14.9   1.0650   55  169.50   68.25  37.2  101.7     91.1   97.1   \n",
       "28     29      4.7   1.0910   27  133.25   64.75  36.4   93.5     73.9   88.5   \n",
       "89     90     14.3   1.0666   48  176.00   73.00  36.7   96.7     86.5   98.3   \n",
       "160   161      9.9   1.0775   31  151.25   72.25  35.0   94.0     81.2   91.5   \n",
       "\n",
       "     THIGH  KNEE  ANKLE  BICEPS  FOREARM  WRIST  \n",
       "19    65.8  40.6   24.0    37.1     30.1   18.2  \n",
       "51    51.4  34.9   21.0    26.7     26.1   17.2  \n",
       "174   69.2  42.4   24.0    35.4     21.0   20.1  \n",
       "195   61.1  38.4   24.1    32.9     29.8   18.8  \n",
       "187   63.5  39.8   23.5    36.4     30.4   19.1  \n",
       "93    58.9  40.5   24.5    33.3     29.6   19.1  \n",
       "0     59.0  37.3   21.9    32.0     27.4   17.1  \n",
       "242   63.7  42.4   24.6    35.6     30.7   19.5  \n",
       "176   60.0  38.1   22.0    31.5     26.6   16.7  \n",
       "219   53.7  36.2   22.0    28.5     25.7   17.1  \n",
       "220   57.7  38.1   23.9    31.4     29.9   18.9  \n",
       "226   56.6  38.5   22.6    33.4     29.3   18.8  \n",
       "28    50.1  34.5   21.3    30.5     27.9   17.2  \n",
       "89    60.4  39.9   24.4    28.8     29.6   18.7  \n",
       "160   52.5  36.6   21.0    27.0     26.3   16.5  "
      ]
     },
     "execution_count": 93,
     "metadata": {},
     "output_type": "execute_result"
    }
   ],
   "source": [
    "# Lets say that we only have N = 15:\n",
    "sample_bfp = bfp.loc[random.sample(range(252), 15)]\n",
    "sample_bfp"
   ]
  },
  {
   "cell_type": "code",
   "execution_count": 94,
   "id": "ebdc7994",
   "metadata": {},
   "outputs": [
    {
     "name": "stdout",
     "output_type": "stream",
     "text": [
      "Population Mean: 18.94\n",
      "Sample Mean: 16.30\n",
      "Statistical Confidence Interval: ['12.43', '20.17']\n",
      "Interval Range: 7.74\n"
     ]
    }
   ],
   "source": [
    "s = np.std(sample_bfp['BODYFAT'], ddof = 1)\n",
    "samp_n = len(sample_bfp)\n",
    "sample_mean = sample_bfp['BODYFAT'].mean()\n",
    "stat_ci = [sample_mean - t.ppf(1 - 0.05/2, n-1)* (s / np.sqrt(n)), sample_mean + t.ppf(1 - 0.05/2, n-1)* (s / np.sqrt(n))]\n",
    "print(f'''Population Mean: {bf_mean:.2f}\\nSample Mean: {sample_mean:.2f}\\nStatistical Confidence Interval: {[f'{e:.2f}' for e in stat_ci]}\\nInterval Range: {stat_ci[1] - stat_ci[0]:.2f}''')"
   ]
  },
  {
   "cell_type": "code",
   "execution_count": 96,
   "id": "1af8bb03",
   "metadata": {},
   "outputs": [
    {
     "name": "stdout",
     "output_type": "stream",
     "text": [
      "Bootstrap Confidence Interval: ['13.38', '20.31']\n",
      "Interval Range: 6.93\n"
     ]
    }
   ],
   "source": [
    "resample_means = []\n",
    "for i in range(10_000):\n",
    "    inds = np.random.randint(0, samp_n-1, samp_n-1)\n",
    "    mean = sample_bfp['BODYFAT'].iloc[inds].mean()\n",
    "    resample_means.append(mean)\n",
    "    \n",
    "boot_mean = np.mean(resample_means)\n",
    "boot_ci = [np.quantile(resample_means, 0.025), np.quantile(resample_means, 0.975)]\n",
    "\n",
    "# print(f'''Statistical Confidence Interval: {[f'{e:.2f}' for e in stat_ci]}''')\n",
    "print(f'''Bootstrap Confidence Interval: {[f'{e:.2f}' for e in boot_ci]}\\nInterval Range: {boot_ci[1]-boot_ci[0]:.2f}''')"
   ]
  },
  {
   "cell_type": "code",
   "execution_count": 33,
   "id": "b985a730",
   "metadata": {},
   "outputs": [
    {
     "data": {
      "image/png": "[encoded data removed]",
      "text/plain": [
       "<Figure size 432x288 with 1 Axes>"
      ]
     },
     "metadata": {
      "needs_background": "light"
     },
     "output_type": "display_data"
    }
   ],
   "source": [
    "plt.hist(bfp['BODYFAT'],bins=20)\n",
    "plt.show()"
   ]
  },
  {
   "cell_type": "code",
   "execution_count": 39,
   "id": "0aadc333",
   "metadata": {},
   "outputs": [
    {
     "data": {
      "image/png": "[encoded data removed]",
      "text/plain": [
       "<Figure size 720x576 with 1 Axes>"
      ]
     },
     "metadata": {
      "needs_background": "light"
     },
     "output_type": "display_data"
    }
   ],
   "source": [
    "fig, ax = plt.subplots(figsize = (10,8))\n",
    "\n",
    "ax.hist(resample_means, alpha = .5, edgecolor = 'grey')\n",
    "ax.vlines(x = boot_mean, ymin = 0, ymax = 3000, color = 'red')\n",
    "ax.vlines(x = boot_ci[0], ymin = 0, ymax = 1000, color = 'red')\n",
    "ax.vlines(x = boot_ci[1], ymin = 0, ymax = 1000, color = 'red')\n",
    "ax.vlines(x = boot_mean, ymin = 0, ymax = 3000, color = 'red')\n",
    "\n",
    "ax.annotate(f'{boot_mean:.2f} (Mean)', (boot_mean-0.25, 3050))\n",
    "ax.annotate(f'{boot_ci[0]:.2f} (2.5th)', (boot_ci[0]-0.25, 1050))\n",
    "ax.annotate(f'{boot_ci[1]:.2f} (97.5th)', (boot_ci[1]-0.25, 1050))\n",
    "\n",
    "ax.spines['top'].set_visible(False)\n",
    "ax.spines['right'].set_visible(False)\n",
    "\n",
    "ax.set_title('Distribution of bootstrapped sample means', size = 16)\n",
    "\n",
    "plt.show()"
   ]
  },
  {
   "cell_type": "markdown",
   "id": "24b92f52",
   "metadata": {},
   "source": [
    "#### Example with Rsquared, a statistic that might not have a well known statistical calculation "
   ]
  },
  {
   "cell_type": "code",
   "execution_count": 135,
   "id": "f3622ceb",
   "metadata": {},
   "outputs": [
    {
     "name": "stdout",
     "output_type": "stream",
     "text": [
      "Population Rsquared_adj: 0.71\n",
      "Sample Rsquared_adj: 0.61\n"
     ]
    }
   ],
   "source": [
    "# Bootstrapping for Rsquared\n",
    "import statsmodels.formula.api as smf\n",
    "model = smf.ols('BODYFAT ~ ABDOMEN + WRIST + ANKLE + AGE', data = bfp).fit()\n",
    "\n",
    "# Model for a sample of the data\n",
    "samp_n = 30\n",
    "sample_bfp = bfp.loc[random.sample(range(pop_n), samp_n)]\n",
    "sample_model = smf.ols('BODYFAT ~ ABDOMEN + WRIST + ANKLE + AGE', data = sample_bfp).fit()\n",
    "\n",
    "print(f'Population Rsquared_adj: {model.rsquared_adj:.2f}\\nSample Rsquared_adj: {sample_model.rsquared_adj:.2f}')"
   ]
  },
  {
   "cell_type": "code",
   "execution_count": 136,
   "id": "8a147365",
   "metadata": {},
   "outputs": [
    {
     "name": "stdout",
     "output_type": "stream",
     "text": [
      "Bootstrap Confidence Interval (Adjusted Rsquared): ['0.32', '0.86']\n"
     ]
    }
   ],
   "source": [
    "adj_rsquareds = []\n",
    "\n",
    "for i in range(1_000):\n",
    "    inds = np.random.randint(0, samp_n-1, samp_n-1)\n",
    "    model = smf.ols('BODYFAT ~ ABDOMEN + WRIST + ANKLE + AGE', data = sample_bfp.iloc[inds]).fit()\n",
    "    rsq_adj = model.rsquared_adj\n",
    "    adj_rsquareds.append(rsq_adj)\n",
    "    \n",
    "boot_rsq_adj_mean = np.mean(adj_rsquareds)\n",
    "boot_rsq_adj_ci = [np.quantile(adj_rsquareds, 0.025), np.quantile(adj_rsquareds, 0.975)]\n",
    "print(f'''Bootstrap Confidence Interval (Adjusted Rsquared): {[f'{e:.2f}' for e in boot_rsq_adj_ci]}''')"
   ]
  },
  {
   "cell_type": "code",
   "execution_count": 137,
   "id": "25ee0f3f",
   "metadata": {},
   "outputs": [
    {
     "data": {
      "image/png": "[encoded data removed]",
      "text/plain": [
       "<Figure size 720x576 with 1 Axes>"
      ]
     },
     "metadata": {
      "needs_background": "light"
     },
     "output_type": "display_data"
    }
   ],
   "source": [
    "fig, ax = plt.subplots(figsize = (10,8))\n",
    "\n",
    "ax.hist(adj_rsquareds, alpha = .5, edgecolor = 'grey')\n",
    "ax.vlines(x = boot_rsq_adj_mean, ymin = 0, ymax = 280, color = 'red')\n",
    "ax.vlines(x = boot_rsq_adj_ci[0], ymin = 0, ymax = 100, color = 'red')\n",
    "ax.vlines(x = boot_rsq_adj_ci[1], ymin = 0, ymax = 100, color = 'red')\n",
    "ax.vlines(x = boot_rsq_adj_mean, ymin = 0, ymax = 280, color = 'red')\n",
    "\n",
    "ax.annotate(f'{boot_rsq_adj_mean:.2f} (Mean)', (boot_rsq_adj_mean-0.007, 285))\n",
    "ax.annotate(f'{boot_rsq_adj_ci[0]:.2f} (2.5th)', (boot_rsq_adj_ci[0]-0.007, 105))\n",
    "ax.annotate(f'{boot_rsq_adj_ci[1]:.2f} (97.5th)', (boot_rsq_adj_ci[1]-0.007, 105))\n",
    "\n",
    "ax.spines['top'].set_visible(False)\n",
    "ax.spines['right'].set_visible(False)\n",
    "\n",
    "ax.set_title('Distribution of Bootstrapped Sample Adj Rsquareds', size = 16)\n",
    "\n",
    "plt.show()"
   ]
  }
 ],
 "metadata": {
  "kernelspec": {
   "display_name": "Python 3",
   "language": "python",
   "name": "python3"
  },
  "language_info": {
   "codemirror_mode": {
    "name": "ipython",
    "version": 3
   },
   "file_extension": ".py",
   "mimetype": "text/x-python",
   "name": "python",
   "nbconvert_exporter": "python",
   "pygments_lexer": "ipython3",
   "version": "3.8.8"
  }
 },
 "nbformat": 4,
 "nbformat_minor": 5
}

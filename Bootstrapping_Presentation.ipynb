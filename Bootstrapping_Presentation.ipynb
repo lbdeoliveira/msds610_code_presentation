{
 "cells": [
  {
   "cell_type": "markdown",
   "id": "2751dab5-0689-470c-80b9-5b88eb575089",
   "metadata": {},
   "source": [
    "# Bootstrapping\n",
    "\n",
    "Lucas De Oliveira, Kooha Kwon, Melvin Vellera"
   ]
  },
  {
   "cell_type": "code",
   "execution_count": 3,
   "id": "27b9cdc7-a86a-4ac7-be9e-1e7b9510aa72",
   "metadata": {},
   "outputs": [],
   "source": [
    "import numpy as np\n",
    "import pandas as pd\n",
    "from collections import Counter\n",
    "import matplotlib.pyplot as plt"
   ]
  },
  {
   "cell_type": "markdown",
   "id": "8ba62b52-b1f3-440c-960b-5e426324055c",
   "metadata": {},
   "source": [
    "## Quick Recap\n",
    "\n",
    "Bootstrapping is a technique of **iterative resampling with replacement** to make inferences about the general population without conducting more experiments.\n",
    "\n",
    "Say we ran an experiments with the following experimental results:"
   ]
  },
  {
   "cell_type": "code",
   "execution_count": 15,
   "id": "a989e6a6-c7b5-4980-83a8-077b58b42b74",
   "metadata": {},
   "outputs": [
    {
     "data": {
      "image/png": "[encoded data removed]",
      "text/plain": [
       "<Figure size 720x72 with 1 Axes>"
      ]
     },
     "metadata": {
      "needs_background": "light"
     },
     "output_type": "display_data"
    }
   ],
   "source": [
    "# Experimental sample\n",
    "exp_sample = [-3, -2.2, -2, 1, 1.5, 2, 3, 4]\n",
    "\n",
    "# Plot\n",
    "fig, ax = plt.subplots(figsize = (10, 1))\n",
    "ax.hlines(y = 0.0, xmax = 4.0, xmin = -4.0, color = 'grey')\n",
    "ax.scatter(exp_sample, [0]*len(exp_sample), s = 100)\n",
    "\n",
    "ax.set_yticks([])\n",
    "\n",
    "ax.spines['top'].set_visible(False)\n",
    "ax.spines['bottom'].set_visible(False)\n",
    "ax.spines['left'].set_visible(False)\n",
    "ax.spines['right'].set_visible(False)\n",
    "\n",
    "plt.show()"
   ]
  },
  {
   "cell_type": "markdown",
   "id": "c1214bf2-461a-484a-b8b9-d6a065f12275",
   "metadata": {},
   "source": [
    "Let's see what bootstrapped samples look like (re-run code cell to see variability of samples)..."
   ]
  },
  {
   "cell_type": "code",
   "execution_count": 52,
   "id": "92fe0a31-39ed-4a53-bfac-567a7b8370d9",
   "metadata": {},
   "outputs": [
    {
     "data": {
      "image/png": "[encoded data removed]",
      "text/plain": [
       "<Figure size 720x360 with 1 Axes>"
      ]
     },
     "metadata": {
      "needs_background": "light"
     },
     "output_type": "display_data"
    }
   ],
   "source": [
    "# Get two bootstrapped samples\n",
    "inds = np.random.randint(0,8,8)\n",
    "strap = [exp_sample[j] for j in inds]\n",
    "val_count = Counter(strap)\n",
    "\n",
    "bootstrap = []\n",
    "counts = []\n",
    "for val, count in val_count.items():\n",
    "    k = 1\n",
    "    while k <= count:\n",
    "        bootstrap.append(val)\n",
    "        counts.append(k)\n",
    "        k += 1       \n",
    "\n",
    "\n",
    "# Plot\n",
    "fig, ax = plt.subplots(figsize = (10, 5))\n",
    "\n",
    "ax.hlines(y = 1.0, xmax = 4.0, xmin = -4.0, color = 'grey')\n",
    "ax.scatter(bootstrap, counts, s = 100, color = 'red', alpha = .5)\n",
    "\n",
    "ax.set_yticks([])\n",
    "\n",
    "ax.spines['top'].set_visible(False)\n",
    "ax.spines['bottom'].set_visible(False)\n",
    "ax.spines['left'].set_visible(False)\n",
    "ax.spines['right'].set_visible(False)\n",
    "\n",
    "ax.vlines(x = np.mean(bootstrap), ymin = 0.0, ymax = 2.0, color = 'red')\n",
    "\n",
    "plt.tight_layout()\n",
    "plt.show()"
   ]
  },
  {
   "cell_type": "markdown",
   "id": "3b6e409b-8d78-4b8f-9873-9216ac397747",
   "metadata": {},
   "source": [
    "Finally, we can analyze the summary statistic(s) for our bootstrapped samples:"
   ]
  },
  {
   "cell_type": "code",
   "execution_count": 58,
   "id": "ec6bc514-8865-483b-a45b-d0f44ef489cd",
   "metadata": {},
   "outputs": [
    {
     "data": {
      "image/png": "[encoded data removed]",
      "text/plain": [
       "<Figure size 720x576 with 1 Axes>"
      ]
     },
     "metadata": {
      "needs_background": "light"
     },
     "output_type": "display_data"
    }
   ],
   "source": [
    "# Bootstrap 10,000 samples\n",
    "means = []\n",
    "\n",
    "for i in range(10_000):\n",
    "    inds = np.random.randint(0,7,8)\n",
    "    strap = [exp_sample[j] for j in inds]\n",
    "    means.append(np.mean(strap))\n",
    "\n",
    "# Plot\n",
    "fig, ax = plt.subplots(figsize = (10,8))\n",
    "\n",
    "ax.hist(means, alpha = .5, edgecolor = 'grey')\n",
    "ax.vlines(x = np.mean(means), ymin = 0, ymax = 2500, color = 'red')\n",
    "\n",
    "ax.spines['top'].set_visible(False)\n",
    "ax.spines['right'].set_visible(False)\n",
    "\n",
    "ax.set_title('Distribution of bootstrapped sample means', size = 16)\n",
    "\n",
    "plt.show()"
   ]
  },
  {
   "cell_type": "markdown",
   "id": "af152acf-ca30-4648-b3de-3e1414548845",
   "metadata": {},
   "source": [
    "## Example with Real Data\n",
    "\n",
    "**Description of example/data here** -- for now I have included BodyFatPercentage.csv"
   ]
  },
  {
   "cell_type": "markdown",
   "id": "e8251ab0-1ba5-4e8c-9dcd-5c6e6649200d",
   "metadata": {},
   "source": [
    "1. Take sample size 10 from one of the columns (we'll call the population)\n",
    "2. Use traditional t-dist for confidence interval (too wide)\n",
    "3. Bootstrap sample size 10 10,000x\n",
    "4. Compare to population"
   ]
  },
  {
   "cell_type": "code",
   "execution_count": 14,
   "id": "ad74a6c2-a6c5-4fb9-9fb2-e0c78b7bd8e7",
   "metadata": {},
   "outputs": [
    {
     "data": {
      "text/html": [
       "<div>\n",
       "<style scoped>\n",
       "    .dataframe tbody tr th:only-of-type {\n",
       "        vertical-align: middle;\n",
       "    }\n",
       "\n",
       "    .dataframe tbody tr th {\n",
       "        vertical-align: top;\n",
       "    }\n",
       "\n",
       "    .dataframe thead th {\n",
       "        text-align: right;\n",
       "    }\n",
       "</style>\n",
       "<table border=\"1\" class=\"dataframe\">\n",
       "  <thead>\n",
       "    <tr style=\"text-align: right;\">\n",
       "      <th></th>\n",
       "      <th>IDNO</th>\n",
       "      <th>BODYFAT</th>\n",
       "      <th>DENSITY</th>\n",
       "      <th>AGE</th>\n",
       "      <th>WEIGHT</th>\n",
       "      <th>HEIGHT</th>\n",
       "      <th>NECK</th>\n",
       "      <th>CHEST</th>\n",
       "      <th>ABDOMEN</th>\n",
       "      <th>HIP</th>\n",
       "      <th>THIGH</th>\n",
       "      <th>KNEE</th>\n",
       "      <th>ANKLE</th>\n",
       "      <th>BICEPS</th>\n",
       "      <th>FOREARM</th>\n",
       "      <th>WRIST</th>\n",
       "    </tr>\n",
       "  </thead>\n",
       "  <tbody>\n",
       "    <tr>\n",
       "      <th>0</th>\n",
       "      <td>1</td>\n",
       "      <td>12.6</td>\n",
       "      <td>1.0708</td>\n",
       "      <td>23</td>\n",
       "      <td>154.25</td>\n",
       "      <td>67.75</td>\n",
       "      <td>36.2</td>\n",
       "      <td>93.1</td>\n",
       "      <td>85.2</td>\n",
       "      <td>94.5</td>\n",
       "      <td>59.0</td>\n",
       "      <td>37.3</td>\n",
       "      <td>21.9</td>\n",
       "      <td>32.0</td>\n",
       "      <td>27.4</td>\n",
       "      <td>17.1</td>\n",
       "    </tr>\n",
       "    <tr>\n",
       "      <th>1</th>\n",
       "      <td>2</td>\n",
       "      <td>6.9</td>\n",
       "      <td>1.0853</td>\n",
       "      <td>22</td>\n",
       "      <td>173.25</td>\n",
       "      <td>72.25</td>\n",
       "      <td>38.5</td>\n",
       "      <td>93.6</td>\n",
       "      <td>83.0</td>\n",
       "      <td>98.7</td>\n",
       "      <td>58.7</td>\n",
       "      <td>37.3</td>\n",
       "      <td>23.4</td>\n",
       "      <td>30.5</td>\n",
       "      <td>28.9</td>\n",
       "      <td>18.2</td>\n",
       "    </tr>\n",
       "    <tr>\n",
       "      <th>2</th>\n",
       "      <td>3</td>\n",
       "      <td>24.6</td>\n",
       "      <td>1.0414</td>\n",
       "      <td>22</td>\n",
       "      <td>154.00</td>\n",
       "      <td>66.25</td>\n",
       "      <td>34.0</td>\n",
       "      <td>95.8</td>\n",
       "      <td>87.9</td>\n",
       "      <td>99.2</td>\n",
       "      <td>59.6</td>\n",
       "      <td>38.9</td>\n",
       "      <td>24.0</td>\n",
       "      <td>28.8</td>\n",
       "      <td>25.2</td>\n",
       "      <td>16.6</td>\n",
       "    </tr>\n",
       "    <tr>\n",
       "      <th>3</th>\n",
       "      <td>4</td>\n",
       "      <td>10.9</td>\n",
       "      <td>1.0751</td>\n",
       "      <td>26</td>\n",
       "      <td>184.75</td>\n",
       "      <td>72.25</td>\n",
       "      <td>37.4</td>\n",
       "      <td>101.8</td>\n",
       "      <td>86.4</td>\n",
       "      <td>101.2</td>\n",
       "      <td>60.1</td>\n",
       "      <td>37.3</td>\n",
       "      <td>22.8</td>\n",
       "      <td>32.4</td>\n",
       "      <td>29.4</td>\n",
       "      <td>18.2</td>\n",
       "    </tr>\n",
       "    <tr>\n",
       "      <th>4</th>\n",
       "      <td>5</td>\n",
       "      <td>27.8</td>\n",
       "      <td>1.0340</td>\n",
       "      <td>24</td>\n",
       "      <td>184.25</td>\n",
       "      <td>71.25</td>\n",
       "      <td>34.4</td>\n",
       "      <td>97.3</td>\n",
       "      <td>100.0</td>\n",
       "      <td>101.9</td>\n",
       "      <td>63.2</td>\n",
       "      <td>42.2</td>\n",
       "      <td>24.0</td>\n",
       "      <td>32.2</td>\n",
       "      <td>27.7</td>\n",
       "      <td>17.7</td>\n",
       "    </tr>\n",
       "  </tbody>\n",
       "</table>\n",
       "</div>"
      ],
      "text/plain": [
       "   IDNO  BODYFAT  DENSITY  AGE  WEIGHT  HEIGHT  NECK  CHEST  ABDOMEN    HIP  \\\n",
       "0     1     12.6   1.0708   23  154.25   67.75  36.2   93.1     85.2   94.5   \n",
       "1     2      6.9   1.0853   22  173.25   72.25  38.5   93.6     83.0   98.7   \n",
       "2     3     24.6   1.0414   22  154.00   66.25  34.0   95.8     87.9   99.2   \n",
       "3     4     10.9   1.0751   26  184.75   72.25  37.4  101.8     86.4  101.2   \n",
       "4     5     27.8   1.0340   24  184.25   71.25  34.4   97.3    100.0  101.9   \n",
       "\n",
       "   THIGH  KNEE  ANKLE  BICEPS  FOREARM  WRIST  \n",
       "0   59.0  37.3   21.9    32.0     27.4   17.1  \n",
       "1   58.7  37.3   23.4    30.5     28.9   18.2  \n",
       "2   59.6  38.9   24.0    28.8     25.2   16.6  \n",
       "3   60.1  37.3   22.8    32.4     29.4   18.2  \n",
       "4   63.2  42.2   24.0    32.2     27.7   17.7  "
      ]
     },
     "execution_count": 14,
     "metadata": {},
     "output_type": "execute_result"
    }
   ],
   "source": [
    "# Load data\n",
    "data = pd.read_csv('BodyFatPercentage.csv')\n",
    "data.head()"
   ]
  },
  {
   "cell_type": "markdown",
   "id": "8299a462-44fa-49b7-b074-969188df1185",
   "metadata": {},
   "source": [
    "### Using sklearn\n",
    "\n",
    "Instead of bootstrapping manually, we can use scikit-learn's resample() function..."
   ]
  },
  {
   "cell_type": "code",
   "execution_count": 27,
   "id": "3dd93cac-c400-422e-a96d-6279e7605f71",
   "metadata": {},
   "outputs": [
    {
     "data": {
      "text/plain": [
       "[6, 10, 6, 1, 1, 2, 9, 8, 3]"
      ]
     },
     "execution_count": 27,
     "metadata": {},
     "output_type": "execute_result"
    }
   ],
   "source": [
    "from sklearn.utils import resample\n",
    "a = [1, 2, 3, 4, 5, 6, 8, 9, 10]\n",
    "b = resample(a, replace = True, n_samples = len(a), random_state = 1)\n",
    "b"
   ]
  },
  {
   "cell_type": "code",
   "execution_count": null,
   "id": "19da0c04-2db4-417c-8810-2bea900458bf",
   "metadata": {},
   "outputs": [],
   "source": []
  },
  {
   "cell_type": "markdown",
   "id": "43170460-891c-4ffa-a52b-8355b65b7213",
   "metadata": {},
   "source": [
    "### Look at distribution of sample (population)\n",
    "\n",
    "**We can consider using an entire column to represent the population and select a random sample from the column to play with. Then we can compare to \"population\" to see how distributions differ.**\n",
    "\n",
    "### Bootstrap and calculate statistic\n",
    "\n",
    "###"
   ]
  },
  {
   "cell_type": "code",
   "execution_count": 28,
   "id": "943bc191-fd64-42c7-9b03-dee4a0c653e9",
   "metadata": {},
   "outputs": [
    {
     "data": {
      "text/plain": [
       "252"
      ]
     },
     "execution_count": 28,
     "metadata": {},
     "output_type": "execute_result"
    }
   ],
   "source": [
    "len(data)"
   ]
  }
 ],
 "metadata": {
  "kernelspec": {
   "display_name": "Python 3",
   "language": "python",
   "name": "python3"
  },
  "language_info": {
   "codemirror_mode": {
    "name": "ipython",
    "version": 3
   },
   "file_extension": ".py",
   "mimetype": "text/x-python",
   "name": "python",
   "nbconvert_exporter": "python",
   "pygments_lexer": "ipython3",
   "version": "3.8.8"
  }
 },
 "nbformat": 4,
 "nbformat_minor": 5
}

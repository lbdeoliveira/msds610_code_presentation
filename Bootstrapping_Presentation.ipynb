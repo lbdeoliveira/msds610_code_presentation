{
 "cells": [
  {
   "cell_type": "markdown",
   "id": "2751dab5-0689-470c-80b9-5b88eb575089",
   "metadata": {},
   "source": [
    "# Bootstrapping\n",
    "\n",
    "Lucas De Oliveira, Kooha Kwon, Melvin Vellera"
   ]
  },
  {
   "cell_type": "code",
   "execution_count": 141,
   "id": "27b9cdc7-a86a-4ac7-be9e-1e7b9510aa72",
   "metadata": {},
   "outputs": [],
   "source": [
    "import numpy as np\n",
    "import pandas as pd\n",
    "from collections import Counter\n",
    "import matplotlib.pyplot as plt\n",
    "from scipy.stats import t\n",
    "import random\n",
    "import matplotlib.pyplot as plt"
   ]
  },
  {
   "cell_type": "markdown",
   "id": "8ba62b52-b1f3-440c-960b-5e426324055c",
   "metadata": {},
   "source": [
    "## Quick Recap\n",
    "\n",
    "Bootstrapping is a technique of **iterative resampling with replacement** to make inferences about the general population without conducting more experiments.\n",
    "\n",
    "Say we ran an experiments with the following experimental results:"
   ]
  },
  {
   "cell_type": "code",
   "execution_count": 142,
   "id": "a989e6a6-c7b5-4980-83a8-077b58b42b74",
   "metadata": {},
   "outputs": [
    {
     "data": {
      "image/png": "[encoded data removed]",
      "text/plain": [
       "<Figure size 720x72 with 1 Axes>"
      ]
     },
     "metadata": {
      "needs_background": "light"
     },
     "output_type": "display_data"
    }
   ],
   "source": [
    "# Experimental sample\n",
    "exp_sample = [-3, -2.2, -2, 1, 1.5, 2, 3, 4]\n",
    "\n",
    "# Plot\n",
    "fig, ax = plt.subplots(figsize = (10, 1))\n",
    "ax.hlines(y = 0.0, xmax = 4.0, xmin = -4.0, color = 'grey')\n",
    "ax.scatter(exp_sample, [0]*len(exp_sample), s = 100)\n",
    "\n",
    "ax.set_yticks([])\n",
    "\n",
    "ax.spines['top'].set_visible(False)\n",
    "ax.spines['bottom'].set_visible(False)\n",
    "ax.spines['left'].set_visible(False)\n",
    "ax.spines['right'].set_visible(False)\n",
    "\n",
    "plt.show()"
   ]
  },
  {
   "cell_type": "markdown",
   "id": "c1214bf2-461a-484a-b8b9-d6a065f12275",
   "metadata": {},
   "source": [
    "Let's see what bootstrapped samples look like (re-run code cell to see variability of samples)..."
   ]
  },
  {
   "cell_type": "code",
   "execution_count": 143,
   "id": "92fe0a31-39ed-4a53-bfac-567a7b8370d9",
   "metadata": {},
   "outputs": [
    {
     "data": {
      "image/png": "[encoded data removed]",
      "text/plain": [
       "<Figure size 720x360 with 1 Axes>"
      ]
     },
     "metadata": {
      "needs_background": "light"
     },
     "output_type": "display_data"
    }
   ],
   "source": [
    "# Get two bootstrapped samples\n",
    "inds = np.random.randint(0,8,8)\n",
    "strap = [exp_sample[j] for j in inds]\n",
    "val_count = Counter(strap)\n",
    "\n",
    "bootstrap = []\n",
    "counts = []\n",
    "for val, count in val_count.items():\n",
    "    k = 1\n",
    "    while k <= count:\n",
    "        bootstrap.append(val)\n",
    "        counts.append(k)\n",
    "        k += 1       \n",
    "\n",
    "\n",
    "# Plot\n",
    "fig, ax = plt.subplots(figsize = (10, 5))\n",
    "\n",
    "ax.hlines(y = 1.0, xmax = 4.0, xmin = -4.0, color = 'grey')\n",
    "ax.scatter(bootstrap, counts, s = 100, color = 'red', alpha = .5)\n",
    "\n",
    "ax.set_yticks([])\n",
    "\n",
    "ax.spines['top'].set_visible(False)\n",
    "ax.spines['bottom'].set_visible(False)\n",
    "ax.spines['left'].set_visible(False)\n",
    "ax.spines['right'].set_visible(False)\n",
    "\n",
    "ax.vlines(x = np.mean(bootstrap), ymin = 0.0, ymax = 2.0, color = 'red')\n",
    "\n",
    "plt.tight_layout()\n",
    "plt.show()"
   ]
  },
  {
   "cell_type": "markdown",
   "id": "3b6e409b-8d78-4b8f-9873-9216ac397747",
   "metadata": {},
   "source": [
    "Finally, we can analyze the summary statistic(s) for our bootstrapped samples:"
   ]
  },
  {
   "cell_type": "code",
   "execution_count": 144,
   "id": "ec6bc514-8865-483b-a45b-d0f44ef489cd",
   "metadata": {},
   "outputs": [
    {
     "data": {
      "image/png": "[encoded data removed]",
      "text/plain": [
       "<Figure size 720x576 with 1 Axes>"
      ]
     },
     "metadata": {
      "needs_background": "light"
     },
     "output_type": "display_data"
    }
   ],
   "source": [
    "# Bootstrap 10,000 samples\n",
    "means = []\n",
    "\n",
    "for i in range(10_000):\n",
    "    inds = np.random.randint(0,8,8)\n",
    "    strap = [exp_sample[j] for j in inds]\n",
    "    means.append(np.mean(strap))\n",
    "\n",
    "# Plot\n",
    "fig, ax = plt.subplots(figsize = (10,8))\n",
    "\n",
    "ax.hist(means, alpha = .5, edgecolor = 'grey')\n",
    "ax.vlines(x = np.mean(means), ymin = 0, ymax = 2700, color = 'red')\n",
    "ax.annotate(f'{np.mean(means):.2f} (Mean)', (np.mean(means), 2700))\n",
    "\n",
    "ax.spines['top'].set_visible(False)\n",
    "ax.spines['right'].set_visible(False)\n",
    "\n",
    "ax.set_title('Distribution of bootstrapped sample means', size = 16)\n",
    "\n",
    "plt.show()"
   ]
  },
  {
   "cell_type": "markdown",
   "id": "af152acf-ca30-4648-b3de-3e1414548845",
   "metadata": {},
   "source": [
    "## Example with Real Data\n",
    "\n",
    "**Description of example/data here** -- for now I have included BodyFatPercentage.csv"
   ]
  },
  {
   "cell_type": "markdown",
   "id": "e8251ab0-1ba5-4e8c-9dcd-5c6e6649200d",
   "metadata": {},
   "source": [
    "1. Take sample size 10 from one of the columns (we'll call the population)\n",
    "2. Use traditional t-dist for confidence interval (too wide)\n",
    "3. Bootstrap sample size 10 10,000x\n",
    "4. Compare to population"
   ]
  },
  {
   "cell_type": "code",
   "execution_count": 145,
   "id": "ad74a6c2-a6c5-4fb9-9fb2-e0c78b7bd8e7",
   "metadata": {},
   "outputs": [
    {
     "data": {
      "text/html": [
       "<div>\n",
       "<style scoped>\n",
       "    .dataframe tbody tr th:only-of-type {\n",
       "        vertical-align: middle;\n",
       "    }\n",
       "\n",
       "    .dataframe tbody tr th {\n",
       "        vertical-align: top;\n",
       "    }\n",
       "\n",
       "    .dataframe thead th {\n",
       "        text-align: right;\n",
       "    }\n",
       "</style>\n",
       "<table border=\"1\" class=\"dataframe\">\n",
       "  <thead>\n",
       "    <tr style=\"text-align: right;\">\n",
       "      <th></th>\n",
       "      <th>IDNO</th>\n",
       "      <th>BODYFAT</th>\n",
       "      <th>DENSITY</th>\n",
       "      <th>AGE</th>\n",
       "      <th>WEIGHT</th>\n",
       "      <th>HEIGHT</th>\n",
       "      <th>NECK</th>\n",
       "      <th>CHEST</th>\n",
       "      <th>ABDOMEN</th>\n",
       "      <th>HIP</th>\n",
       "      <th>THIGH</th>\n",
       "      <th>KNEE</th>\n",
       "      <th>ANKLE</th>\n",
       "      <th>BICEPS</th>\n",
       "      <th>FOREARM</th>\n",
       "      <th>WRIST</th>\n",
       "    </tr>\n",
       "  </thead>\n",
       "  <tbody>\n",
       "    <tr>\n",
       "      <th>0</th>\n",
       "      <td>1</td>\n",
       "      <td>12.6</td>\n",
       "      <td>1.0708</td>\n",
       "      <td>23</td>\n",
       "      <td>154.25</td>\n",
       "      <td>67.75</td>\n",
       "      <td>36.2</td>\n",
       "      <td>93.1</td>\n",
       "      <td>85.2</td>\n",
       "      <td>94.5</td>\n",
       "      <td>59.0</td>\n",
       "      <td>37.3</td>\n",
       "      <td>21.9</td>\n",
       "      <td>32.0</td>\n",
       "      <td>27.4</td>\n",
       "      <td>17.1</td>\n",
       "    </tr>\n",
       "    <tr>\n",
       "      <th>1</th>\n",
       "      <td>2</td>\n",
       "      <td>6.9</td>\n",
       "      <td>1.0853</td>\n",
       "      <td>22</td>\n",
       "      <td>173.25</td>\n",
       "      <td>72.25</td>\n",
       "      <td>38.5</td>\n",
       "      <td>93.6</td>\n",
       "      <td>83.0</td>\n",
       "      <td>98.7</td>\n",
       "      <td>58.7</td>\n",
       "      <td>37.3</td>\n",
       "      <td>23.4</td>\n",
       "      <td>30.5</td>\n",
       "      <td>28.9</td>\n",
       "      <td>18.2</td>\n",
       "    </tr>\n",
       "    <tr>\n",
       "      <th>2</th>\n",
       "      <td>3</td>\n",
       "      <td>24.6</td>\n",
       "      <td>1.0414</td>\n",
       "      <td>22</td>\n",
       "      <td>154.00</td>\n",
       "      <td>66.25</td>\n",
       "      <td>34.0</td>\n",
       "      <td>95.8</td>\n",
       "      <td>87.9</td>\n",
       "      <td>99.2</td>\n",
       "      <td>59.6</td>\n",
       "      <td>38.9</td>\n",
       "      <td>24.0</td>\n",
       "      <td>28.8</td>\n",
       "      <td>25.2</td>\n",
       "      <td>16.6</td>\n",
       "    </tr>\n",
       "    <tr>\n",
       "      <th>3</th>\n",
       "      <td>4</td>\n",
       "      <td>10.9</td>\n",
       "      <td>1.0751</td>\n",
       "      <td>26</td>\n",
       "      <td>184.75</td>\n",
       "      <td>72.25</td>\n",
       "      <td>37.4</td>\n",
       "      <td>101.8</td>\n",
       "      <td>86.4</td>\n",
       "      <td>101.2</td>\n",
       "      <td>60.1</td>\n",
       "      <td>37.3</td>\n",
       "      <td>22.8</td>\n",
       "      <td>32.4</td>\n",
       "      <td>29.4</td>\n",
       "      <td>18.2</td>\n",
       "    </tr>\n",
       "    <tr>\n",
       "      <th>4</th>\n",
       "      <td>5</td>\n",
       "      <td>27.8</td>\n",
       "      <td>1.0340</td>\n",
       "      <td>24</td>\n",
       "      <td>184.25</td>\n",
       "      <td>71.25</td>\n",
       "      <td>34.4</td>\n",
       "      <td>97.3</td>\n",
       "      <td>100.0</td>\n",
       "      <td>101.9</td>\n",
       "      <td>63.2</td>\n",
       "      <td>42.2</td>\n",
       "      <td>24.0</td>\n",
       "      <td>32.2</td>\n",
       "      <td>27.7</td>\n",
       "      <td>17.7</td>\n",
       "    </tr>\n",
       "  </tbody>\n",
       "</table>\n",
       "</div>"
      ],
      "text/plain": [
       "   IDNO  BODYFAT  DENSITY  AGE  WEIGHT  HEIGHT  NECK  CHEST  ABDOMEN    HIP  \\\n",
       "0     1     12.6   1.0708   23  154.25   67.75  36.2   93.1     85.2   94.5   \n",
       "1     2      6.9   1.0853   22  173.25   72.25  38.5   93.6     83.0   98.7   \n",
       "2     3     24.6   1.0414   22  154.00   66.25  34.0   95.8     87.9   99.2   \n",
       "3     4     10.9   1.0751   26  184.75   72.25  37.4  101.8     86.4  101.2   \n",
       "4     5     27.8   1.0340   24  184.25   71.25  34.4   97.3    100.0  101.9   \n",
       "\n",
       "   THIGH  KNEE  ANKLE  BICEPS  FOREARM  WRIST  \n",
       "0   59.0  37.3   21.9    32.0     27.4   17.1  \n",
       "1   58.7  37.3   23.4    30.5     28.9   18.2  \n",
       "2   59.6  38.9   24.0    28.8     25.2   16.6  \n",
       "3   60.1  37.3   22.8    32.4     29.4   18.2  \n",
       "4   63.2  42.2   24.0    32.2     27.7   17.7  "
      ]
     },
     "execution_count": 145,
     "metadata": {},
     "output_type": "execute_result"
    }
   ],
   "source": [
    "# Load data\n",
    "bfp = pd.read_csv('BodyFatPercentage.csv')\n",
    "bfp.head()"
   ]
  },
  {
   "cell_type": "markdown",
   "id": "8299a462-44fa-49b7-b074-969188df1185",
   "metadata": {},
   "source": [
    "### Using sklearn\n",
    "\n",
    "Instead of bootstrapping manually, we can use scikit-learn's resample() function..."
   ]
  },
  {
   "cell_type": "code",
   "execution_count": 146,
   "id": "3dd93cac-c400-422e-a96d-6279e7605f71",
   "metadata": {},
   "outputs": [
    {
     "data": {
      "text/plain": [
       "[6, 10, 6, 1, 1, 2, 9, 8, 3]"
      ]
     },
     "execution_count": 146,
     "metadata": {},
     "output_type": "execute_result"
    }
   ],
   "source": [
    "from sklearn.utils import resample\n",
    "a = [1, 2, 3, 4, 5, 6, 8, 9, 10]\n",
    "b = resample(a, replace = True, n_samples = len(a), random_state = 1)\n",
    "b"
   ]
  },
  {
   "cell_type": "markdown",
   "id": "43170460-891c-4ffa-a52b-8355b65b7213",
   "metadata": {},
   "source": [
    "### Look at distribution of sample (population)\n",
    "\n",
    "**We can consider using an entire column to represent the population and select a random sample from the column to play with. Then we can compare to \"population\" to see how distributions differ.**\n",
    "\n",
    "### Bootstrap and calculate statistic\n",
    "\n",
    "###"
   ]
  },
  {
   "cell_type": "code",
   "execution_count": 147,
   "id": "943bc191-fd64-42c7-9b03-dee4a0c653e9",
   "metadata": {},
   "outputs": [
    {
     "name": "stdout",
     "output_type": "stream",
     "text": [
      "252\n"
     ]
    }
   ],
   "source": [
    "bf_mean = bfp['BODYFAT'].mean()\n",
    "pop_n = len(bfp)\n",
    "print(pop_n)"
   ]
  },
  {
   "cell_type": "code",
   "execution_count": 148,
   "id": "1ad313ff",
   "metadata": {},
   "outputs": [
    {
     "name": "stdout",
     "output_type": "stream",
     "text": [
      "Average Body Fat: 18.94\n",
      "Number of Observations: 252\n"
     ]
    }
   ],
   "source": [
    "print(f'''Average Body Fat: {bf_mean:.2f}\\nNumber of Observations: {pop_n}''')"
   ]
  },
  {
   "cell_type": "code",
   "execution_count": 149,
   "id": "1e5da8bd",
   "metadata": {},
   "outputs": [
    {
     "data": {
      "text/html": [
       "<div>\n",
       "<style scoped>\n",
       "    .dataframe tbody tr th:only-of-type {\n",
       "        vertical-align: middle;\n",
       "    }\n",
       "\n",
       "    .dataframe tbody tr th {\n",
       "        vertical-align: top;\n",
       "    }\n",
       "\n",
       "    .dataframe thead th {\n",
       "        text-align: right;\n",
       "    }\n",
       "</style>\n",
       "<table border=\"1\" class=\"dataframe\">\n",
       "  <thead>\n",
       "    <tr style=\"text-align: right;\">\n",
       "      <th></th>\n",
       "      <th>IDNO</th>\n",
       "      <th>BODYFAT</th>\n",
       "      <th>DENSITY</th>\n",
       "      <th>AGE</th>\n",
       "      <th>WEIGHT</th>\n",
       "      <th>HEIGHT</th>\n",
       "      <th>NECK</th>\n",
       "      <th>CHEST</th>\n",
       "      <th>ABDOMEN</th>\n",
       "      <th>HIP</th>\n",
       "      <th>THIGH</th>\n",
       "      <th>KNEE</th>\n",
       "      <th>ANKLE</th>\n",
       "      <th>BICEPS</th>\n",
       "      <th>FOREARM</th>\n",
       "      <th>WRIST</th>\n",
       "    </tr>\n",
       "  </thead>\n",
       "  <tbody>\n",
       "    <tr>\n",
       "      <th>91</th>\n",
       "      <td>92</td>\n",
       "      <td>18.1</td>\n",
       "      <td>1.0573</td>\n",
       "      <td>44</td>\n",
       "      <td>179.75</td>\n",
       "      <td>69.50</td>\n",
       "      <td>39.2</td>\n",
       "      <td>101.9</td>\n",
       "      <td>93.2</td>\n",
       "      <td>100.6</td>\n",
       "      <td>58.9</td>\n",
       "      <td>39.7</td>\n",
       "      <td>23.1</td>\n",
       "      <td>31.4</td>\n",
       "      <td>28.4</td>\n",
       "      <td>18.8</td>\n",
       "    </tr>\n",
       "    <tr>\n",
       "      <th>61</th>\n",
       "      <td>62</td>\n",
       "      <td>28.8</td>\n",
       "      <td>1.0317</td>\n",
       "      <td>56</td>\n",
       "      <td>178.75</td>\n",
       "      <td>68.50</td>\n",
       "      <td>35.6</td>\n",
       "      <td>102.9</td>\n",
       "      <td>94.7</td>\n",
       "      <td>100.8</td>\n",
       "      <td>60.9</td>\n",
       "      <td>38.0</td>\n",
       "      <td>22.1</td>\n",
       "      <td>32.5</td>\n",
       "      <td>29.8</td>\n",
       "      <td>18.3</td>\n",
       "    </tr>\n",
       "    <tr>\n",
       "      <th>145</th>\n",
       "      <td>146</td>\n",
       "      <td>14.4</td>\n",
       "      <td>1.0664</td>\n",
       "      <td>24</td>\n",
       "      <td>156.00</td>\n",
       "      <td>70.75</td>\n",
       "      <td>35.7</td>\n",
       "      <td>92.7</td>\n",
       "      <td>81.9</td>\n",
       "      <td>95.3</td>\n",
       "      <td>56.4</td>\n",
       "      <td>36.5</td>\n",
       "      <td>22.0</td>\n",
       "      <td>33.5</td>\n",
       "      <td>28.3</td>\n",
       "      <td>17.3</td>\n",
       "    </tr>\n",
       "    <tr>\n",
       "      <th>128</th>\n",
       "      <td>129</td>\n",
       "      <td>20.4</td>\n",
       "      <td>1.0515</td>\n",
       "      <td>40</td>\n",
       "      <td>192.25</td>\n",
       "      <td>73.25</td>\n",
       "      <td>39.8</td>\n",
       "      <td>103.9</td>\n",
       "      <td>93.5</td>\n",
       "      <td>99.5</td>\n",
       "      <td>61.7</td>\n",
       "      <td>39.0</td>\n",
       "      <td>21.8</td>\n",
       "      <td>33.3</td>\n",
       "      <td>29.6</td>\n",
       "      <td>18.1</td>\n",
       "    </tr>\n",
       "    <tr>\n",
       "      <th>72</th>\n",
       "      <td>73</td>\n",
       "      <td>9.1</td>\n",
       "      <td>1.0796</td>\n",
       "      <td>56</td>\n",
       "      <td>160.75</td>\n",
       "      <td>73.75</td>\n",
       "      <td>36.4</td>\n",
       "      <td>93.6</td>\n",
       "      <td>82.9</td>\n",
       "      <td>96.3</td>\n",
       "      <td>52.9</td>\n",
       "      <td>37.5</td>\n",
       "      <td>23.1</td>\n",
       "      <td>29.7</td>\n",
       "      <td>27.3</td>\n",
       "      <td>18.2</td>\n",
       "    </tr>\n",
       "    <tr>\n",
       "      <th>143</th>\n",
       "      <td>144</td>\n",
       "      <td>9.9</td>\n",
       "      <td>1.0775</td>\n",
       "      <td>23</td>\n",
       "      <td>159.75</td>\n",
       "      <td>72.25</td>\n",
       "      <td>35.5</td>\n",
       "      <td>92.1</td>\n",
       "      <td>77.1</td>\n",
       "      <td>93.9</td>\n",
       "      <td>56.1</td>\n",
       "      <td>36.1</td>\n",
       "      <td>22.7</td>\n",
       "      <td>30.5</td>\n",
       "      <td>27.2</td>\n",
       "      <td>18.2</td>\n",
       "    </tr>\n",
       "    <tr>\n",
       "      <th>173</th>\n",
       "      <td>174</td>\n",
       "      <td>16.8</td>\n",
       "      <td>1.0603</td>\n",
       "      <td>36</td>\n",
       "      <td>176.25</td>\n",
       "      <td>71.50</td>\n",
       "      <td>38.7</td>\n",
       "      <td>98.2</td>\n",
       "      <td>90.3</td>\n",
       "      <td>99.9</td>\n",
       "      <td>59.2</td>\n",
       "      <td>37.7</td>\n",
       "      <td>21.5</td>\n",
       "      <td>32.4</td>\n",
       "      <td>28.4</td>\n",
       "      <td>17.8</td>\n",
       "    </tr>\n",
       "    <tr>\n",
       "      <th>111</th>\n",
       "      <td>112</td>\n",
       "      <td>27.1</td>\n",
       "      <td>1.0355</td>\n",
       "      <td>43</td>\n",
       "      <td>183.25</td>\n",
       "      <td>70.00</td>\n",
       "      <td>37.1</td>\n",
       "      <td>108.0</td>\n",
       "      <td>105.0</td>\n",
       "      <td>103.0</td>\n",
       "      <td>63.7</td>\n",
       "      <td>40.0</td>\n",
       "      <td>23.6</td>\n",
       "      <td>33.5</td>\n",
       "      <td>27.8</td>\n",
       "      <td>17.4</td>\n",
       "    </tr>\n",
       "    <tr>\n",
       "      <th>104</th>\n",
       "      <td>105</td>\n",
       "      <td>24.7</td>\n",
       "      <td>1.0412</td>\n",
       "      <td>43</td>\n",
       "      <td>177.00</td>\n",
       "      <td>69.25</td>\n",
       "      <td>39.6</td>\n",
       "      <td>104.0</td>\n",
       "      <td>98.6</td>\n",
       "      <td>99.5</td>\n",
       "      <td>59.5</td>\n",
       "      <td>36.1</td>\n",
       "      <td>22.0</td>\n",
       "      <td>30.1</td>\n",
       "      <td>27.2</td>\n",
       "      <td>17.7</td>\n",
       "    </tr>\n",
       "    <tr>\n",
       "      <th>125</th>\n",
       "      <td>126</td>\n",
       "      <td>17.4</td>\n",
       "      <td>1.0587</td>\n",
       "      <td>46</td>\n",
       "      <td>167.00</td>\n",
       "      <td>67.00</td>\n",
       "      <td>36.6</td>\n",
       "      <td>101.0</td>\n",
       "      <td>89.9</td>\n",
       "      <td>100.0</td>\n",
       "      <td>60.7</td>\n",
       "      <td>36.0</td>\n",
       "      <td>21.9</td>\n",
       "      <td>35.6</td>\n",
       "      <td>30.2</td>\n",
       "      <td>17.6</td>\n",
       "    </tr>\n",
       "    <tr>\n",
       "      <th>18</th>\n",
       "      <td>19</td>\n",
       "      <td>16.1</td>\n",
       "      <td>1.0622</td>\n",
       "      <td>28</td>\n",
       "      <td>183.75</td>\n",
       "      <td>67.75</td>\n",
       "      <td>38.0</td>\n",
       "      <td>106.8</td>\n",
       "      <td>89.6</td>\n",
       "      <td>102.4</td>\n",
       "      <td>64.2</td>\n",
       "      <td>38.7</td>\n",
       "      <td>22.9</td>\n",
       "      <td>37.2</td>\n",
       "      <td>30.5</td>\n",
       "      <td>18.5</td>\n",
       "    </tr>\n",
       "    <tr>\n",
       "      <th>203</th>\n",
       "      <td>204</td>\n",
       "      <td>6.8</td>\n",
       "      <td>1.0854</td>\n",
       "      <td>44</td>\n",
       "      <td>184.00</td>\n",
       "      <td>74.00</td>\n",
       "      <td>37.9</td>\n",
       "      <td>100.8</td>\n",
       "      <td>89.1</td>\n",
       "      <td>102.6</td>\n",
       "      <td>60.6</td>\n",
       "      <td>39.0</td>\n",
       "      <td>24.0</td>\n",
       "      <td>32.9</td>\n",
       "      <td>29.2</td>\n",
       "      <td>18.4</td>\n",
       "    </tr>\n",
       "    <tr>\n",
       "      <th>148</th>\n",
       "      <td>149</td>\n",
       "      <td>6.1</td>\n",
       "      <td>1.0873</td>\n",
       "      <td>25</td>\n",
       "      <td>143.75</td>\n",
       "      <td>72.50</td>\n",
       "      <td>35.2</td>\n",
       "      <td>92.3</td>\n",
       "      <td>76.5</td>\n",
       "      <td>92.1</td>\n",
       "      <td>51.9</td>\n",
       "      <td>35.7</td>\n",
       "      <td>22.0</td>\n",
       "      <td>25.8</td>\n",
       "      <td>25.2</td>\n",
       "      <td>16.9</td>\n",
       "    </tr>\n",
       "    <tr>\n",
       "      <th>249</th>\n",
       "      <td>250</td>\n",
       "      <td>28.3</td>\n",
       "      <td>1.0328</td>\n",
       "      <td>72</td>\n",
       "      <td>186.75</td>\n",
       "      <td>66.00</td>\n",
       "      <td>38.9</td>\n",
       "      <td>111.1</td>\n",
       "      <td>111.5</td>\n",
       "      <td>101.7</td>\n",
       "      <td>60.3</td>\n",
       "      <td>37.3</td>\n",
       "      <td>21.5</td>\n",
       "      <td>31.3</td>\n",
       "      <td>27.2</td>\n",
       "      <td>18.0</td>\n",
       "    </tr>\n",
       "    <tr>\n",
       "      <th>0</th>\n",
       "      <td>1</td>\n",
       "      <td>12.6</td>\n",
       "      <td>1.0708</td>\n",
       "      <td>23</td>\n",
       "      <td>154.25</td>\n",
       "      <td>67.75</td>\n",
       "      <td>36.2</td>\n",
       "      <td>93.1</td>\n",
       "      <td>85.2</td>\n",
       "      <td>94.5</td>\n",
       "      <td>59.0</td>\n",
       "      <td>37.3</td>\n",
       "      <td>21.9</td>\n",
       "      <td>32.0</td>\n",
       "      <td>27.4</td>\n",
       "      <td>17.1</td>\n",
       "    </tr>\n",
       "  </tbody>\n",
       "</table>\n",
       "</div>"
      ],
      "text/plain": [
       "     IDNO  BODYFAT  DENSITY  AGE  WEIGHT  HEIGHT  NECK  CHEST  ABDOMEN    HIP  \\\n",
       "91     92     18.1   1.0573   44  179.75   69.50  39.2  101.9     93.2  100.6   \n",
       "61     62     28.8   1.0317   56  178.75   68.50  35.6  102.9     94.7  100.8   \n",
       "145   146     14.4   1.0664   24  156.00   70.75  35.7   92.7     81.9   95.3   \n",
       "128   129     20.4   1.0515   40  192.25   73.25  39.8  103.9     93.5   99.5   \n",
       "72     73      9.1   1.0796   56  160.75   73.75  36.4   93.6     82.9   96.3   \n",
       "143   144      9.9   1.0775   23  159.75   72.25  35.5   92.1     77.1   93.9   \n",
       "173   174     16.8   1.0603   36  176.25   71.50  38.7   98.2     90.3   99.9   \n",
       "111   112     27.1   1.0355   43  183.25   70.00  37.1  108.0    105.0  103.0   \n",
       "104   105     24.7   1.0412   43  177.00   69.25  39.6  104.0     98.6   99.5   \n",
       "125   126     17.4   1.0587   46  167.00   67.00  36.6  101.0     89.9  100.0   \n",
       "18     19     16.1   1.0622   28  183.75   67.75  38.0  106.8     89.6  102.4   \n",
       "203   204      6.8   1.0854   44  184.00   74.00  37.9  100.8     89.1  102.6   \n",
       "148   149      6.1   1.0873   25  143.75   72.50  35.2   92.3     76.5   92.1   \n",
       "249   250     28.3   1.0328   72  186.75   66.00  38.9  111.1    111.5  101.7   \n",
       "0       1     12.6   1.0708   23  154.25   67.75  36.2   93.1     85.2   94.5   \n",
       "\n",
       "     THIGH  KNEE  ANKLE  BICEPS  FOREARM  WRIST  \n",
       "91    58.9  39.7   23.1    31.4     28.4   18.8  \n",
       "61    60.9  38.0   22.1    32.5     29.8   18.3  \n",
       "145   56.4  36.5   22.0    33.5     28.3   17.3  \n",
       "128   61.7  39.0   21.8    33.3     29.6   18.1  \n",
       "72    52.9  37.5   23.1    29.7     27.3   18.2  \n",
       "143   56.1  36.1   22.7    30.5     27.2   18.2  \n",
       "173   59.2  37.7   21.5    32.4     28.4   17.8  \n",
       "111   63.7  40.0   23.6    33.5     27.8   17.4  \n",
       "104   59.5  36.1   22.0    30.1     27.2   17.7  \n",
       "125   60.7  36.0   21.9    35.6     30.2   17.6  \n",
       "18    64.2  38.7   22.9    37.2     30.5   18.5  \n",
       "203   60.6  39.0   24.0    32.9     29.2   18.4  \n",
       "148   51.9  35.7   22.0    25.8     25.2   16.9  \n",
       "249   60.3  37.3   21.5    31.3     27.2   18.0  \n",
       "0     59.0  37.3   21.9    32.0     27.4   17.1  "
      ]
     },
     "execution_count": 149,
     "metadata": {},
     "output_type": "execute_result"
    }
   ],
   "source": [
    "# Lets say that we only have N = 15:\n",
    "sample_bfp = bfp.loc[random.sample(range(252), 15)]\n",
    "sample_bfp"
   ]
  },
  {
   "cell_type": "code",
   "execution_count": 150,
   "id": "ebdc7994",
   "metadata": {},
   "outputs": [
    {
     "name": "stdout",
     "output_type": "stream",
     "text": [
      "Population Mean: 18.94\n",
      "Sample Mean: 17.11\n",
      "Statistical Confidence Interval: ['12.91', '21.30']\n",
      "Interval Range: 8.39\n"
     ]
    }
   ],
   "source": [
    "s = np.std(sample_bfp['BODYFAT'], ddof = 1)\n",
    "samp_n = len(sample_bfp)\n",
    "sample_mean = sample_bfp['BODYFAT'].mean()\n",
    "stat_ci = [sample_mean - t.ppf(1 - 0.05/2, samp_n-1)* (s / np.sqrt(n)), sample_mean + t.ppf(1 - 0.05/2, samp_n-1)* (s / np.sqrt(samp_n))]\n",
    "print(f'''Population Mean: {bf_mean:.2f}\\nSample Mean: {sample_mean:.2f}\\nStatistical Confidence Interval: {[f'{e:.2f}' for e in stat_ci]}\\nInterval Range: {stat_ci[1] - stat_ci[0]:.2f}''')"
   ]
  },
  {
   "cell_type": "code",
   "execution_count": 151,
   "id": "1af8bb03",
   "metadata": {},
   "outputs": [
    {
     "name": "stdout",
     "output_type": "stream",
     "text": [
      "Bootstrap Confidence Interval: ['13.62', '21.33']\n",
      "Interval Range: 7.71\n"
     ]
    }
   ],
   "source": [
    "resample_means = []\n",
    "for i in range(10_000):\n",
    "    inds = np.random.randint(0, samp_n-1, samp_n-1)\n",
    "    mean = sample_bfp['BODYFAT'].iloc[inds].mean()\n",
    "    resample_means.append(mean)\n",
    "    \n",
    "boot_mean = np.mean(resample_means)\n",
    "boot_ci = [np.quantile(resample_means, 0.025), np.quantile(resample_means, 0.975)]\n",
    "\n",
    "# print(f'''Statistical Confidence Interval: {[f'{e:.2f}' for e in stat_ci]}''')\n",
    "print(f'''Bootstrap Confidence Interval: {[f'{e:.2f}' for e in boot_ci]}\\nInterval Range: {boot_ci[1]-boot_ci[0]:.2f}''')"
   ]
  },
  {
   "cell_type": "code",
   "execution_count": 152,
   "id": "b985a730",
   "metadata": {},
   "outputs": [
    {
     "data": {
      "image/png": "[encoded data removed]",
      "text/plain": [
       "<Figure size 432x288 with 1 Axes>"
      ]
     },
     "metadata": {
      "needs_background": "light"
     },
     "output_type": "display_data"
    }
   ],
   "source": [
    "plt.hist(bfp['BODYFAT'],bins=20)\n",
    "plt.show()"
   ]
  },
  {
   "cell_type": "code",
   "execution_count": 153,
   "id": "0aadc333",
   "metadata": {},
   "outputs": [
    {
     "data": {
      "image/png": "[encoded data removed]",
      "text/plain": [
       "<Figure size 720x576 with 1 Axes>"
      ]
     },
     "metadata": {
      "needs_background": "light"
     },
     "output_type": "display_data"
    }
   ],
   "source": [
    "fig, ax = plt.subplots(figsize = (10,8))\n",
    "\n",
    "ax.hist(resample_means, alpha = .5, edgecolor = 'grey')\n",
    "ax.vlines(x = boot_mean, ymin = 0, ymax = 3000, color = 'red')\n",
    "ax.vlines(x = boot_ci[0], ymin = 0, ymax = 1000, color = 'red')\n",
    "ax.vlines(x = boot_ci[1], ymin = 0, ymax = 1000, color = 'red')\n",
    "ax.vlines(x = boot_mean, ymin = 0, ymax = 3000, color = 'red')\n",
    "\n",
    "ax.annotate(f'{boot_mean:.2f} (Mean)', (boot_mean-0.25, 3050))\n",
    "ax.annotate(f'{boot_ci[0]:.2f} (2.5th)', (boot_ci[0]-0.25, 1050))\n",
    "ax.annotate(f'{boot_ci[1]:.2f} (97.5th)', (boot_ci[1]-0.25, 1050))\n",
    "\n",
    "ax.spines['top'].set_visible(False)\n",
    "ax.spines['right'].set_visible(False)\n",
    "\n",
    "ax.set_title('Distribution of bootstrapped sample means', size = 16)\n",
    "\n",
    "plt.show()"
   ]
  },
  {
   "cell_type": "markdown",
   "id": "24b92f52",
   "metadata": {},
   "source": [
    "#### Example with Rsquared, a statistic that might not have a well known statistical calculation "
   ]
  },
  {
   "cell_type": "code",
   "execution_count": 154,
   "id": "f3622ceb",
   "metadata": {},
   "outputs": [
    {
     "name": "stdout",
     "output_type": "stream",
     "text": [
      "Population Rsquared_adj: 0.71\n",
      "Sample Rsquared_adj: 0.68\n"
     ]
    }
   ],
   "source": [
    "# Bootstrapping for Rsquared\n",
    "import statsmodels.formula.api as smf\n",
    "model = smf.ols('BODYFAT ~ ABDOMEN + WRIST + ANKLE + AGE', data = bfp).fit()\n",
    "\n",
    "# Model for a sample of the data\n",
    "samp_n = 30\n",
    "sample_bfp = bfp.loc[random.sample(range(pop_n), samp_n)]\n",
    "sample_model = smf.ols('BODYFAT ~ ABDOMEN + WRIST + ANKLE + AGE', data = sample_bfp).fit()\n",
    "\n",
    "print(f'Population Rsquared_adj: {model.rsquared_adj:.2f}\\nSample Rsquared_adj: {sample_model.rsquared_adj:.2f}')"
   ]
  },
  {
   "cell_type": "code",
   "execution_count": 155,
   "id": "8a147365",
   "metadata": {},
   "outputs": [
    {
     "name": "stdout",
     "output_type": "stream",
     "text": [
      "Bootstrap Confidence Interval (Adjusted Rsquared): ['0.44', '0.86']\n"
     ]
    }
   ],
   "source": [
    "adj_rsquareds = []\n",
    "\n",
    "for i in range(1_000):\n",
    "    inds = np.random.randint(0, samp_n-1, samp_n-1)\n",
    "    model = smf.ols('BODYFAT ~ ABDOMEN + WRIST + ANKLE + AGE', data = sample_bfp.iloc[inds]).fit()\n",
    "    rsq_adj = model.rsquared_adj\n",
    "    adj_rsquareds.append(rsq_adj)\n",
    "    \n",
    "boot_rsq_adj_mean = np.mean(adj_rsquareds)\n",
    "boot_rsq_adj_ci = [np.quantile(adj_rsquareds, 0.025), np.quantile(adj_rsquareds, 0.975)]\n",
    "print(f'''Bootstrap Confidence Interval (Adjusted Rsquared): {[f'{e:.2f}' for e in boot_rsq_adj_ci]}''')"
   ]
  },
  {
   "cell_type": "code",
   "execution_count": 156,
   "id": "25ee0f3f",
   "metadata": {},
   "outputs": [
    {
     "data": {
      "image/png": "[encoded data removed]",
      "text/plain": [
       "<Figure size 720x576 with 1 Axes>"
      ]
     },
     "metadata": {
      "needs_background": "light"
     },
     "output_type": "display_data"
    }
   ],
   "source": [
    "fig, ax = plt.subplots(figsize = (10,8))\n",
    "\n",
    "ax.hist(adj_rsquareds, alpha = .5, edgecolor = 'grey')\n",
    "ax.vlines(x = boot_rsq_adj_mean, ymin = 0, ymax = 280, color = 'red')\n",
    "ax.vlines(x = boot_rsq_adj_ci[0], ymin = 0, ymax = 100, color = 'red')\n",
    "ax.vlines(x = boot_rsq_adj_ci[1], ymin = 0, ymax = 100, color = 'red')\n",
    "ax.vlines(x = boot_rsq_adj_mean, ymin = 0, ymax = 280, color = 'red')\n",
    "\n",
    "ax.annotate(f'{boot_rsq_adj_mean:.2f} (Mean)', (boot_rsq_adj_mean-0.007, 285))\n",
    "ax.annotate(f'{boot_rsq_adj_ci[0]:.2f} (2.5th)', (boot_rsq_adj_ci[0]-0.007, 105))\n",
    "ax.annotate(f'{boot_rsq_adj_ci[1]:.2f} (97.5th)', (boot_rsq_adj_ci[1]-0.007, 105))\n",
    "\n",
    "ax.spines['top'].set_visible(False)\n",
    "ax.spines['right'].set_visible(False)\n",
    "\n",
    "ax.set_title('Distribution of Bootstrapped Sample Adj Rsquareds', size = 16)\n",
    "\n",
    "plt.show()"
   ]
  }
 ],
 "metadata": {
  "kernelspec": {
   "display_name": "Python 3",
   "language": "python",
   "name": "python3"
  },
  "language_info": {
   "codemirror_mode": {
    "name": "ipython",
    "version": 3
   },
   "file_extension": ".py",
   "mimetype": "text/x-python",
   "name": "python",
   "nbconvert_exporter": "python",
   "pygments_lexer": "ipython3",
   "version": "3.8.8"
  }
 },
 "nbformat": 4,
 "nbformat_minor": 5
}
